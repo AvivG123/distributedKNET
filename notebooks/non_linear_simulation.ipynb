{
 "cells": [
  {
   "cell_type": "code",
   "id": "initial_id",
   "metadata": {
    "ExecuteTime": {
     "end_time": "2025-05-03T15:11:46.505913Z",
     "start_time": "2025-05-03T15:11:16.956004Z"
    }
   },
   "source": [
    "import os\n",
    "import torch\n",
    "import random\n",
    "import numpy as np\n",
    "import networkx as nx\n",
    "import pytorch_lightning as pl\n",
    "from tqdm.notebook import tqdm\n",
    "import matplotlib.pyplot as plt\n",
    "from torch_geometric.loader import DataLoader\n",
    "from torch_geometric.utils import dense_to_sparse\n",
    "from torch_geometric.nn import SimpleConv\n",
    "torch.set_default_dtype(torch.float)\n",
    "from utils.ClassicDistributedKalman import (centralized_extended_kalman_filter,\n",
    "                                            diffusion_extended_kalman_filter_parallel_edge)\n",
    "from utils.DistributedKalmanData import (HSystem, FSystem, GraphDataset, CreateGraph, \n",
    "                                         generate_data_points, generate_measurements)\n",
    "from utils.DistributedKalmanNet import GraphKalmanProcess, EdgeKalmanFilter, GlobalKalmanFilter\n"
   ],
   "outputs": [],
   "execution_count": 1
  },
  {
   "metadata": {
    "ExecuteTime": {
     "end_time": "2025-05-03T15:11:46.514705Z",
     "start_time": "2025-05-03T15:11:46.507420Z"
    }
   },
   "cell_type": "code",
   "source": [
    "def seed_everything(seed=42):\n",
    "    \"\"\"\n",
    "    Set the random seed for reproducibility.\n",
    "    :param seed: the random seed to set\n",
    "    \"\"\"\n",
    "    random.seed(seed)\n",
    "    os.environ['PYTHONHASHSEED'] = str(seed)\n",
    "    np.random.seed(seed)\n",
    "    torch.manual_seed(seed)\n",
    "    torch.cuda.manual_seed(seed)\n",
    "    torch.cuda.manual_seed_all(seed)\n",
    "    torch.backends.cudnn.deterministic = True"
   ],
   "id": "b016909a1b56ec15",
   "outputs": [],
   "execution_count": 2
  },
  {
   "metadata": {
    "ExecuteTime": {
     "end_time": "2025-05-04T11:33:34.744696Z",
     "start_time": "2025-05-04T11:33:34.725225Z"
    }
   },
   "cell_type": "code",
   "source": [
    "def diffusion_extended_kalman_filter_parallel_edge2(measurements, f_system, h_system, r_array, q, p0, x0, j_matrix,\n",
    "                                                   time_steps=10, node_num=10):\n",
    "    simple_conv = SimpleConv(aggr='mean')\n",
    "    edge_kalman_gain = EdgeKalmanFilter(h_system, node_num, r_array, 2)\n",
    "    global_kalman_gain = GlobalKalmanFilter(h_system, node_num, r_array, 2)\n",
    "    x_hat = np.zeros((time_steps, node_num, 2, 1))\n",
    "    measurements = measurements.transpose(2, 0, 1)\n",
    "    p = p0\n",
    "    x_pred = x0\n",
    "    for i in range(measurements.shape[0]):\n",
    "        if i == 0:\n",
    "            x_pred = x_pred[None, ...].repeat(node_num, axis=0)\n",
    "        y_kalman_edge, _ = edge_kalman_gain(torch.tensor(x_pred, dtype=torch.float), torch.tensor(measurements[i, ...], dtype=torch.float), torch.tensor(j_matrix, dtype=torch.float))\n",
    "        y_kalman_edge = y_kalman_edge[0, ...].numpy()\n",
    "        m_all  = global_kalman_gain(torch.tensor(x_pred, dtype=torch.float), torch.tensor(p, dtype=torch.float), torch.tensor(j_matrix, dtype=torch.float))\n",
    "        m_all = m_all[0, ...].numpy()\n",
    "        x_current_all = x_pred + m_all @ y_kalman_edge\n",
    "        edge_index, _ = dense_to_sparse(torch.tensor(j_matrix, dtype=torch.float))\n",
    "        x_current = simple_conv(torch.tensor(x_current_all[..., 0], dtype=torch.float), edge_index)[..., None].numpy()\n",
    "        p = kalman_process.gkf.calculate_p_mat(torch.tensor(x_current, dtype=torch.float), torch.tensor(m_all, dtype=torch.float), torch.tensor(j_matrix, dtype=torch.float))\n",
    "        p = p[0, ...].numpy()\n",
    "        x_pred = f_system.func(x_current)\n",
    "        x_hat[i, ...] = x_current\n",
    "    return x_hat"
   ],
   "id": "798482e7dbdc69fc",
   "outputs": [],
   "execution_count": 15
  },
  {
   "cell_type": "code",
   "id": "888aa18b51fc4231",
   "metadata": {
    "ExecuteTime": {
     "end_time": "2025-05-03T15:10:32.611929Z",
     "start_time": "2025-05-03T15:10:32.603809Z"
    }
   },
   "source": [
    "NODE_NUM = 100\n",
    "TIME_STEPS = 100\n",
    "torch.set_default_dtype(torch.float64)"
   ],
   "outputs": [],
   "execution_count": 5
  },
  {
   "cell_type": "code",
   "id": "565083e615ff63be",
   "metadata": {
    "ExecuteTime": {
     "end_time": "2025-05-03T15:10:34.562805Z",
     "start_time": "2025-05-03T15:10:34.069088Z"
    }
   },
   "source": [
    "h_sys = HSystem(node_num=NODE_NUM)\n",
    "f_sys = FSystem()\n",
    "g = nx.connected_watts_strogatz_graph(NODE_NUM, 5, 0.4, seed=42)\n",
    "g = g.to_directed()\n",
    "g.add_edges_from([(i, i) for i in range(NODE_NUM)])\n",
    "adj_matrix = nx.adjacency_matrix(g).todense()"
   ],
   "outputs": [],
   "execution_count": 6
  },
  {
   "cell_type": "code",
   "id": "f2c99594360477e6",
   "metadata": {
    "ExecuteTime": {
     "end_time": "2025-05-03T15:10:35.477625Z",
     "start_time": "2025-05-03T15:10:35.462270Z"
    }
   },
   "source": [
    "q = 1\n",
    "P0 = 1 * np.eye(2)\n",
    "x0 = np.array([[1, 1], ]).T\n",
    "r_array = np.ones(NODE_NUM)"
   ],
   "outputs": [],
   "execution_count": 7
  },
  {
   "cell_type": "code",
   "id": "45109b975a974f4f",
   "metadata": {
    "ExecuteTime": {
     "end_time": "2025-05-03T15:10:43.929231Z",
     "start_time": "2025-05-03T15:10:36.031133Z"
    }
   },
   "source": [
    "x_hat_kalman_list3 = []\n",
    "x_hat_local_kalman_list = []\n",
    "x_hat_diffusion_kalman_list = []\n",
    "x_hat_alg_3_list = []\n",
    "x_points_list = []\n",
    "\n",
    "for i in tqdm(range(10)):\n",
    "    x_points = generate_data_points(f_sys.func, q, np.array([10, 10],).T, TIME_STEPS)\n",
    "    x_points_list.append(x_points.T)\n",
    "    meas = generate_measurements(h_sys.func, x_points, r_array, n_expansions=1)\n",
    "    print(meas.shape)\n",
    "    print(x_points.shape)\n",
    "    adj_matrix = nx.adjacency_matrix(g).todense()\n",
    "    x_hat_kalman3 = centralized_extended_kalman_filter(meas, f_sys, h_sys, r_array, q, P0, x0, time_steps=TIME_STEPS, node_num=NODE_NUM)\n",
    "    # x_hat_local_kalman = local_extended_kalman_filter(meas, f_sys, h_sys, r_array, q, P0, x0, adj_matrix, time_steps=TIME_STEPS, node_num=NODE_NUM)\n",
    "    x_hat_diffusion_kalman = diffusion_extended_kalman_filter_parallel_edge(meas, f_sys, h_sys, r_array, q, P0, x0, adj_matrix, time_steps=TIME_STEPS, node_num=NODE_NUM)\n",
    "    x_hat_alg_3 = diffusion_extended_kalman_filter_parallel_edge2(meas, f_sys, h_sys, r_array, q, P0, x0, adj_matrix, time_steps=TIME_STEPS, node_num=NODE_NUM)\n",
    "    x_hat_kalman_list3.append(x_hat_kalman3)\n",
    "    # x_hat_local_kalman_list.append(x_hat_local_kalman)\n",
    "    x_hat_alg_3_list.append(x_hat_alg_3)\n",
    "    x_hat_diffusion_kalman_list.append(x_hat_diffusion_kalman)\n",
    "x_points = np.stack(x_points_list, axis=0)\n",
    "x_hat_kalman3 = np.stack(x_hat_kalman_list3, axis=0)\n",
    "x_hat_diffusion_kalman = np.stack(x_hat_diffusion_kalman_list, axis=0)\n",
    "# x_hat_local_kalman = np.stack(x_hat_local_kalman_list, axis=0)\n",
    "x_hat_alg_3 = np.stack(x_hat_alg_3_list, axis=0)"
   ],
   "outputs": [
    {
     "data": {
      "text/plain": [
       "  0%|          | 0/10 [00:00<?, ?it/s]"
      ],
      "application/vnd.jupyter.widget-view+json": {
       "version_major": 2,
       "version_minor": 0,
       "model_id": "bdd263e78cb940f786a3f61946fb23ba"
      }
     },
     "metadata": {},
     "output_type": "display_data"
    },
    {
     "name": "stdout",
     "output_type": "stream",
     "text": [
      "(100, 1, 100)\n",
      "(2, 100)\n"
     ]
    },
    {
     "ename": "RuntimeError",
     "evalue": "expected scalar type Float but found Double",
     "output_type": "error",
     "traceback": [
      "\u001B[1;31m---------------------------------------------------------------------------\u001B[0m",
      "\u001B[1;31mRuntimeError\u001B[0m                              Traceback (most recent call last)",
      "Cell \u001B[1;32mIn[8], line 17\u001B[0m\n\u001B[0;32m     15\u001B[0m \u001B[38;5;66;03m# x_hat_local_kalman = local_extended_kalman_filter(meas, f_sys, h_sys, r_array, q, P0, x0, adj_matrix, time_steps=TIME_STEPS, node_num=NODE_NUM)\u001B[39;00m\n\u001B[0;32m     16\u001B[0m x_hat_diffusion_kalman \u001B[38;5;241m=\u001B[39m diffusion_extended_kalman_filter_parallel_edge(meas, f_sys, h_sys, r_array, q, P0, x0, adj_matrix, time_steps\u001B[38;5;241m=\u001B[39mTIME_STEPS, node_num\u001B[38;5;241m=\u001B[39mNODE_NUM)\n\u001B[1;32m---> 17\u001B[0m x_hat_alg_3 \u001B[38;5;241m=\u001B[39m diffusion_extended_kalman_filter_parallel_edge2(meas, f_sys, h_sys, r_array, q, P0, x0, adj_matrix, time_steps\u001B[38;5;241m=\u001B[39mTIME_STEPS, node_num\u001B[38;5;241m=\u001B[39mNODE_NUM)\n\u001B[0;32m     18\u001B[0m x_hat_kalman_list3\u001B[38;5;241m.\u001B[39mappend(x_hat_kalman3)\n\u001B[0;32m     19\u001B[0m \u001B[38;5;66;03m# x_hat_local_kalman_list.append(x_hat_local_kalman)\u001B[39;00m\n",
      "Cell \u001B[1;32mIn[4], line 15\u001B[0m, in \u001B[0;36mdiffusion_extended_kalman_filter_parallel_edge2\u001B[1;34m(measurements, f_system, h_system, r_array, q, p0, x0, j_matrix, time_steps, node_num)\u001B[0m\n\u001B[0;32m     13\u001B[0m y_kalman_edge, _ \u001B[38;5;241m=\u001B[39m edge_kalman_gain(torch\u001B[38;5;241m.\u001B[39mtensor(x_pred, dtype\u001B[38;5;241m=\u001B[39mtorch\u001B[38;5;241m.\u001B[39mfloat), torch\u001B[38;5;241m.\u001B[39mtensor(measurements[i, \u001B[38;5;241m.\u001B[39m\u001B[38;5;241m.\u001B[39m\u001B[38;5;241m.\u001B[39m], dtype\u001B[38;5;241m=\u001B[39mtorch\u001B[38;5;241m.\u001B[39mfloat), torch\u001B[38;5;241m.\u001B[39mtensor(j_matrix, dtype\u001B[38;5;241m=\u001B[39mtorch\u001B[38;5;241m.\u001B[39mfloat))\n\u001B[0;32m     14\u001B[0m y_kalman_edge \u001B[38;5;241m=\u001B[39m y_kalman_edge[\u001B[38;5;241m0\u001B[39m, \u001B[38;5;241m.\u001B[39m\u001B[38;5;241m.\u001B[39m\u001B[38;5;241m.\u001B[39m]\u001B[38;5;241m.\u001B[39mnumpy()\n\u001B[1;32m---> 15\u001B[0m m_all  \u001B[38;5;241m=\u001B[39m global_kalman_gain(torch\u001B[38;5;241m.\u001B[39mtensor(x_pred, dtype\u001B[38;5;241m=\u001B[39mtorch\u001B[38;5;241m.\u001B[39mfloat), torch\u001B[38;5;241m.\u001B[39mtensor(p, dtype\u001B[38;5;241m=\u001B[39mtorch\u001B[38;5;241m.\u001B[39mfloat), torch\u001B[38;5;241m.\u001B[39mtensor(j_matrix, dtype\u001B[38;5;241m=\u001B[39mtorch\u001B[38;5;241m.\u001B[39mfloat))\n\u001B[0;32m     16\u001B[0m m_all \u001B[38;5;241m=\u001B[39m m_all[\u001B[38;5;241m0\u001B[39m, \u001B[38;5;241m.\u001B[39m\u001B[38;5;241m.\u001B[39m\u001B[38;5;241m.\u001B[39m]\u001B[38;5;241m.\u001B[39mnumpy()\n\u001B[0;32m     17\u001B[0m x_current_all \u001B[38;5;241m=\u001B[39m x_pred \u001B[38;5;241m+\u001B[39m m_all \u001B[38;5;241m@\u001B[39m y_kalman_edge\n",
      "File \u001B[1;32m~\\Documents\\second_degree\\thesis\\distributedKNET\\utils\\DistributedKalmanNet.py:81\u001B[0m, in \u001B[0;36mGlobalKalmanFilter.__call__\u001B[1;34m(self, x_pred, p_mat, adj_matrix)\u001B[0m\n\u001B[0;32m     79\u001B[0m h_transpose_mat \u001B[38;5;241m=\u001B[39m \u001B[38;5;28mself\u001B[39m\u001B[38;5;241m.\u001B[39mh_system\u001B[38;5;241m.\u001B[39mjacobian(x_pred_reshaped, \u001B[38;5;241m1\u001B[39m)[:, \u001B[38;5;241m0\u001B[39m, \u001B[38;5;241m.\u001B[39m\u001B[38;5;241m.\u001B[39m\u001B[38;5;241m.\u001B[39m]\n\u001B[0;32m     80\u001B[0m h_transpose_mat \u001B[38;5;241m=\u001B[39m h_transpose_mat\u001B[38;5;241m.\u001B[39mreshape(\u001B[38;5;241m-\u001B[39m\u001B[38;5;241m1\u001B[39m, \u001B[38;5;28mself\u001B[39m\u001B[38;5;241m.\u001B[39mnode_num, \u001B[38;5;28mself\u001B[39m\u001B[38;5;241m.\u001B[39mnode_num, \u001B[38;5;28mself\u001B[39m\u001B[38;5;241m.\u001B[39msignal_dim, \u001B[38;5;241m1\u001B[39m)\n\u001B[1;32m---> 81\u001B[0m node_s_all \u001B[38;5;241m=\u001B[39m h_transpose_mat \u001B[38;5;241m@\u001B[39m \u001B[38;5;28mself\u001B[39m\u001B[38;5;241m.\u001B[39mr_inv[\u001B[38;5;28;01mNone\u001B[39;00m, \u001B[38;5;28;01mNone\u001B[39;00m, :, \u001B[38;5;28;01mNone\u001B[39;00m, \u001B[38;5;28;01mNone\u001B[39;00m] \u001B[38;5;241m@\u001B[39m h_transpose_mat\u001B[38;5;241m.\u001B[39mtranspose(\u001B[38;5;241m-\u001B[39m\u001B[38;5;241m1\u001B[39m, \u001B[38;5;241m-\u001B[39m\u001B[38;5;241m2\u001B[39m)\n\u001B[0;32m     82\u001B[0m s_local_all \u001B[38;5;241m=\u001B[39m (adj_matrix_reshaped[\u001B[38;5;241m.\u001B[39m\u001B[38;5;241m.\u001B[39m\u001B[38;5;241m.\u001B[39m, \u001B[38;5;28;01mNone\u001B[39;00m, \u001B[38;5;28;01mNone\u001B[39;00m] \u001B[38;5;241m*\u001B[39m node_s_all)\u001B[38;5;241m.\u001B[39msum(\u001B[38;5;241m2\u001B[39m) \u001B[38;5;241m/\u001B[39m adj_matrix_reshaped\u001B[38;5;241m.\u001B[39msum(\u001B[38;5;241m1\u001B[39m)[\u001B[38;5;241m.\u001B[39m\u001B[38;5;241m.\u001B[39m\u001B[38;5;241m.\u001B[39m, \u001B[38;5;28;01mNone\u001B[39;00m, \u001B[38;5;28;01mNone\u001B[39;00m]\n\u001B[0;32m     83\u001B[0m m_mat \u001B[38;5;241m=\u001B[39m torch\u001B[38;5;241m.\u001B[39mlinalg\u001B[38;5;241m.\u001B[39minv(torch\u001B[38;5;241m.\u001B[39mlinalg\u001B[38;5;241m.\u001B[39minv(p_mat) \u001B[38;5;241m+\u001B[39m s_local_all)\n",
      "\u001B[1;31mRuntimeError\u001B[0m: expected scalar type Float but found Double"
     ]
    }
   ],
   "execution_count": 8
  },
  {
   "cell_type": "code",
   "id": "30a7b849cffc31f0",
   "metadata": {},
   "source": [
    "err_kalman3 = np.linalg.norm(x_hat_kalman3 - x_points[..., None], axis=(-1, -2)).mean(axis=0)\n",
    "# err_local_kalman = np.linalg.norm(x_hat_local_kalman - x_points[:, :, None, ..., None].repeat(NODE_NUM, axis=2),\n",
    "#                                   axis=(-1, -2)).mean(axis=(0, 2))\n",
    "err_local_kalman2 = np.linalg.norm(x_hat_diffusion_kalman - x_points[:, :, None, ..., None].repeat(NODE_NUM, axis=2),\n",
    "                                   axis=(-1, -2)).mean(axis=(0, 2))\n",
    "err_alg_3 = np.linalg.norm(x_hat_alg_3 - x_points[:, :, None, ..., None].repeat(NODE_NUM, axis=2), axis=(-1, -2)).mean(\n",
    "    axis=(0, 2))"
   ],
   "outputs": [],
   "execution_count": null
  },
  {
   "metadata": {},
   "cell_type": "code",
   "source": [
    "\n",
    "x_points.shape"
   ],
   "id": "a71e2c8e4a4d7f61",
   "outputs": [],
   "execution_count": null
  },
  {
   "metadata": {},
   "cell_type": "code",
   "source": "x_hat_kalman3",
   "id": "fa77434f3abdcf77",
   "outputs": [],
   "execution_count": null
  },
  {
   "cell_type": "code",
   "id": "d82ecdab9cb692a2",
   "metadata": {},
   "source": [
    "plt.figure(figsize=(8, 6))\n",
    "plt.plot(err_kalman3, 'r', label='CEKF3')\n",
    "# plt.plot(err_local_kalman, 'b', label='LDEKF')\n",
    "plt.plot(err_alg_3, 'y', label='Alg-3')\n",
    "plt.plot(err_local_kalman2, 'g', label='DiffEKF')\n",
    "plt.legend()\n",
    "plt.xlabel('Time Steps')\n",
    "plt.ylabel('Estimation Error')\n",
    "plt.ylim(0, 20)\n",
    "plt.show()"
   ],
   "outputs": [],
   "execution_count": null
  },
  {
   "cell_type": "markdown",
   "id": "3dd0e88ad0505f64",
   "metadata": {},
   "source": " # Deep Extended Kalman Filter"
  },
  {
   "cell_type": "code",
   "id": "c3b281fd7fd54471",
   "metadata": {
    "ExecuteTime": {
     "end_time": "2025-05-03T15:11:52.273322Z",
     "start_time": "2025-05-03T15:11:46.516695Z"
    }
   },
   "source": [
    "seed_everything(42)\n",
    "NODE_NUM = 50\n",
    "TIME_STEPS=10\n",
    "q = 1\n",
    "P0 = 1 * np.eye(2)\n",
    "x0 = np.array([[1, 1], ]).T\n",
    "r_array = np.ones(NODE_NUM)\n",
    "h_sys = HSystem(node_num=NODE_NUM)\n",
    "f_sys = FSystem()\n",
    "g = CreateGraph(NODE_NUM, 5)\n",
    "train_dataset = GraphDataset(g, f_sys, h_sys, q, r_array, monte_carlo_simulations=10000, time_steps=TIME_STEPS, n_expansions=1)  \n",
    "val_dataset = GraphDataset(g , f_sys, h_sys, q, r_array, monte_carlo_simulations=100, time_steps=TIME_STEPS, n_expansions=1, mean=train_dataset.mean, std=train_dataset.std)\n",
    "# train_dataset_overfit\n",
    "# train_dataset_overfit2 = [train_dataset[1] for _ in range(10000)]"
   ],
   "outputs": [],
   "execution_count": 3
  },
  {
   "cell_type": "code",
   "id": "2c6413bed8493161",
   "metadata": {
    "ExecuteTime": {
     "end_time": "2025-05-03T15:11:55.052032Z",
     "start_time": "2025-05-03T15:11:55.034374Z"
    }
   },
   "source": [
    "seed_everything(42)\n",
    "BATCH_SIZE = 32\n",
    "train_dataset_overfit_batch = [[train_dataset[i] for i in range(BATCH_SIZE)] for _ in range(100)]\n",
    "train_dataset_overfit = [example for nested in train_dataset_overfit_batch for example in nested]\n",
    "train_loader = DataLoader(train_dataset, shuffle=True, batch_size=BATCH_SIZE)\n",
    "train_loader_overfit = DataLoader(train_dataset_overfit, shuffle=False, batch_size=BATCH_SIZE)\n",
    "val_loader = DataLoader(val_dataset, shuffle=False, batch_size=BATCH_SIZE)"
   ],
   "outputs": [],
   "execution_count": 4
  },
  {
   "metadata": {
    "ExecuteTime": {
     "end_time": "2025-05-03T15:11:56.194643Z",
     "start_time": "2025-05-03T15:11:56.042252Z"
    }
   },
   "cell_type": "code",
   "source": [
    "seed_everything(42)\n",
    "kalman_process = GraphKalmanProcess(\n",
    "    NODE_NUM, h_sys, f_sys, signal_dim=2, node_feature_dim=4, node_output_dim=16,\n",
    "    edge_features_dim=1, node_kalman_dim=4, edge_kalman_dim=2, hidden_dim=32, heads=16, \n",
    "    lr=0.0005, r_array=r_array)\n",
    "kalman_process = kalman_process.to(torch.float)"
   ],
   "id": "2589f7cdc5e98f58",
   "outputs": [],
   "execution_count": 5
  },
  {
   "cell_type": "code",
   "id": "daa58bf5925a4a74",
   "metadata": {
    "ExecuteTime": {
     "end_time": "2025-05-03T15:11:59.324001Z",
     "start_time": "2025-05-03T15:11:58.639726Z"
    }
   },
   "source": [
    "# take first batch of train_loader\n",
    "for idx, batch in enumerate(train_loader):\n",
    "    print(batch[0].x.shape[0])    \n",
    "    break"
   ],
   "outputs": [
    {
     "name": "stdout",
     "output_type": "stream",
     "text": [
      "50\n"
     ]
    }
   ],
   "execution_count": 6
  },
  {
   "cell_type": "code",
   "id": "ff5bef44fffd236a",
   "metadata": {
    "ExecuteTime": {
     "end_time": "2025-05-03T15:12:00.049288Z",
     "start_time": "2025-05-03T15:12:00.041982Z"
    }
   },
   "source": [
    "# create pl trainer\n",
    "for name, param in kalman_process.named_parameters():\n",
    "    if param.requires_grad:\n",
    "        print(name, param.shape)"
   ],
   "outputs": [
    {
     "name": "stdout",
     "output_type": "stream",
     "text": [
      "gkf.gat_rnn.fc_delta_y_innov.0.weight torch.Size([32, 3])\n",
      "gkf.gat_rnn.fc_delta_y_innov.0.bias torch.Size([32])\n",
      "gkf.gat_rnn.fc_delta_y_innov.2.weight torch.Size([32, 32])\n",
      "gkf.gat_rnn.fc_delta_y_innov.2.bias torch.Size([32])\n",
      "gkf.gat_rnn.fc_r.0.weight torch.Size([32, 1])\n",
      "gkf.gat_rnn.fc_r.0.bias torch.Size([32])\n",
      "gkf.gat_rnn.fc_r.2.weight torch.Size([32, 32])\n",
      "gkf.gat_rnn.fc_r.2.bias torch.Size([32])\n",
      "gkf.gat_rnn.r_input_gru.weight_ih_l0 torch.Size([96, 32])\n",
      "gkf.gat_rnn.r_input_gru.weight_hh_l0 torch.Size([96, 32])\n",
      "gkf.gat_rnn.r_input_gru.bias_ih_l0 torch.Size([96])\n",
      "gkf.gat_rnn.r_input_gru.bias_hh_l0 torch.Size([96])\n",
      "gkf.gat_rnn.gcn_nodes.bias torch.Size([32])\n",
      "gkf.gat_rnn.gcn_nodes.lin.weight torch.Size([32, 64])\n",
      "gkf.gat_rnn.fc_signal_features.0.weight torch.Size([32, 4])\n",
      "gkf.gat_rnn.fc_signal_features.0.bias torch.Size([32])\n",
      "gkf.gat_rnn.fc_signal_features.2.weight torch.Size([32, 32])\n",
      "gkf.gat_rnn.fc_signal_features.2.bias torch.Size([32])\n",
      "gkf.gat_rnn.sigma_gru.weight_ih_l0 torch.Size([12, 32])\n",
      "gkf.gat_rnn.sigma_gru.weight_hh_l0 torch.Size([12, 4])\n",
      "gkf.gat_rnn.sigma_gru.bias_ih_l0 torch.Size([12])\n",
      "gkf.gat_rnn.sigma_gru.bias_hh_l0 torch.Size([12])\n",
      "gkf.gat_rnn.fc_node_output.0.weight torch.Size([64, 36])\n",
      "gkf.gat_rnn.fc_node_output.0.bias torch.Size([64])\n",
      "gkf.gat_rnn.fc_node_output.2.weight torch.Size([32, 64])\n",
      "gkf.gat_rnn.fc_node_output.2.bias torch.Size([32])\n",
      "gkf.gat_rnn.fc_node_output.4.weight torch.Size([4, 32])\n",
      "gkf.gat_rnn.fc_node_output.4.bias torch.Size([4])\n",
      "gkf.norm_x_features.gamma torch.Size([50, 4])\n",
      "gkf.norm_x_features.beta torch.Size([50, 4])\n",
      "gkf.norm_y_innov.gamma torch.Size([50, 3])\n",
      "gkf.norm_y_innov.beta torch.Size([50, 3])\n",
      "gkf.norm_y_i_features.gamma torch.Size([50, 1])\n",
      "gkf.norm_y_i_features.beta torch.Size([50, 1])\n"
     ]
    }
   ],
   "execution_count": 7
  },
  {
   "cell_type": "code",
   "id": "633a95010817e12",
   "metadata": {
    "ExecuteTime": {
     "end_time": "2025-05-03T17:52:11.285065Z",
     "start_time": "2025-05-03T15:12:00.969744Z"
    }
   },
   "source": [
    "seed_everything(42)\n",
    "# define early stopping for validation loss\n",
    "early_stopping = pl.callbacks.EarlyStopping(monitor='val_loss:_epoch', patience=5, verbose=True, mode='min', )\n",
    "trainer = pl.Trainer(max_epochs=2000, accelerator='auto', log_every_n_steps=1, callbacks=[early_stopping])\n",
    "# trainer = pl.Trainer(max_epochs=2000, accelerator='auto', log_every_n_steps=1)\n",
    "trainer.fit(kalman_process, train_loader, val_loader)"
   ],
   "outputs": [
    {
     "name": "stderr",
     "output_type": "stream",
     "text": [
      "GPU available: False, used: False\n",
      "TPU available: False, using: 0 TPU cores\n",
      "HPU available: False, using: 0 HPUs\n",
      "C:\\Users\\Lenovo\\anaconda3\\envs\\thesis\\Lib\\site-packages\\pytorch_lightning\\trainer\\connectors\\logger_connector\\logger_connector.py:75: Starting from v1.9.0, `tensorboardX` has been removed as a dependency of the `pytorch_lightning` package, due to potential conflicts with other packages in the ML ecosystem. For this reason, `logger=True` will use `CSVLogger` as the default logger, unless the `tensorboard` or `tensorboardX` packages are found. Please `pip install lightning[extra]` or one of them to enable TensorBoard support by default\n",
      "\n",
      "  | Name | Type              | Params | Mode \n",
      "---------------------------------------------------\n",
      "0 | gkf  | GraphKalmanFilter | 17.8 K | train\n",
      "1 | loss | MSELoss           | 0      | train\n",
      "---------------------------------------------------\n",
      "17.8 K    Trainable params\n",
      "0         Non-trainable params\n",
      "17.8 K    Total params\n",
      "0.071     Total estimated model params size (MB)\n",
      "34        Modules in train mode\n",
      "0         Modules in eval mode\n"
     ]
    },
    {
     "data": {
      "text/plain": [
       "Sanity Checking: |          | 0/? [00:00<?, ?it/s]"
      ],
      "application/vnd.jupyter.widget-view+json": {
       "version_major": 2,
       "version_minor": 0,
       "model_id": "4c106794dfb740f88b22bdb6601b4d9f"
      }
     },
     "metadata": {},
     "output_type": "display_data"
    },
    {
     "name": "stderr",
     "output_type": "stream",
     "text": [
      "C:\\Users\\Lenovo\\anaconda3\\envs\\thesis\\Lib\\site-packages\\pytorch_lightning\\trainer\\connectors\\data_connector.py:424: The 'val_dataloader' does not have many workers which may be a bottleneck. Consider increasing the value of the `num_workers` argument` to `num_workers=7` in the `DataLoader` to improve performance.\n",
      "C:\\Users\\Lenovo\\anaconda3\\envs\\thesis\\Lib\\site-packages\\pytorch_lightning\\trainer\\connectors\\data_connector.py:424: The 'train_dataloader' does not have many workers which may be a bottleneck. Consider increasing the value of the `num_workers` argument` to `num_workers=7` in the `DataLoader` to improve performance.\n"
     ]
    },
    {
     "data": {
      "text/plain": [
       "Training: |          | 0/? [00:00<?, ?it/s]"
      ],
      "application/vnd.jupyter.widget-view+json": {
       "version_major": 2,
       "version_minor": 0,
       "model_id": "15859e0180844bfc929c1df722755eba"
      }
     },
     "metadata": {},
     "output_type": "display_data"
    },
    {
     "data": {
      "text/plain": [
       "Validation: |          | 0/? [00:00<?, ?it/s]"
      ],
      "application/vnd.jupyter.widget-view+json": {
       "version_major": 2,
       "version_minor": 0,
       "model_id": "fb322e71a56a475290df505dcff4f569"
      }
     },
     "metadata": {},
     "output_type": "display_data"
    },
    {
     "name": "stderr",
     "output_type": "stream",
     "text": [
      "Metric val_loss:_epoch improved. New best score: 1.854\n"
     ]
    },
    {
     "data": {
      "text/plain": [
       "Validation: |          | 0/? [00:00<?, ?it/s]"
      ],
      "application/vnd.jupyter.widget-view+json": {
       "version_major": 2,
       "version_minor": 0,
       "model_id": "866c31cae01949619306dc07cf3e7725"
      }
     },
     "metadata": {},
     "output_type": "display_data"
    },
    {
     "name": "stderr",
     "output_type": "stream",
     "text": [
      "Metric val_loss:_epoch improved by 0.515 >= min_delta = 0.0. New best score: 1.339\n"
     ]
    },
    {
     "data": {
      "text/plain": [
       "Validation: |          | 0/? [00:00<?, ?it/s]"
      ],
      "application/vnd.jupyter.widget-view+json": {
       "version_major": 2,
       "version_minor": 0,
       "model_id": "96ce362189db4d029427b9d1e3d6b61f"
      }
     },
     "metadata": {},
     "output_type": "display_data"
    },
    {
     "name": "stderr",
     "output_type": "stream",
     "text": [
      "Metric val_loss:_epoch improved by 0.023 >= min_delta = 0.0. New best score: 1.316\n"
     ]
    },
    {
     "data": {
      "text/plain": [
       "Validation: |          | 0/? [00:00<?, ?it/s]"
      ],
      "application/vnd.jupyter.widget-view+json": {
       "version_major": 2,
       "version_minor": 0,
       "model_id": "4227426d0fc84fc9aee90bd1733118f9"
      }
     },
     "metadata": {},
     "output_type": "display_data"
    },
    {
     "name": "stderr",
     "output_type": "stream",
     "text": [
      "Metric val_loss:_epoch improved by 0.362 >= min_delta = 0.0. New best score: 0.954\n"
     ]
    },
    {
     "data": {
      "text/plain": [
       "Validation: |          | 0/? [00:00<?, ?it/s]"
      ],
      "application/vnd.jupyter.widget-view+json": {
       "version_major": 2,
       "version_minor": 0,
       "model_id": "d95315ba7b444ea6b2f315b0dbfd01e4"
      }
     },
     "metadata": {},
     "output_type": "display_data"
    },
    {
     "name": "stderr",
     "output_type": "stream",
     "text": [
      "Metric val_loss:_epoch improved by 0.121 >= min_delta = 0.0. New best score: 0.833\n"
     ]
    },
    {
     "data": {
      "text/plain": [
       "Validation: |          | 0/? [00:00<?, ?it/s]"
      ],
      "application/vnd.jupyter.widget-view+json": {
       "version_major": 2,
       "version_minor": 0,
       "model_id": "387009373ce7451b87cca19155379f9b"
      }
     },
     "metadata": {},
     "output_type": "display_data"
    },
    {
     "name": "stderr",
     "output_type": "stream",
     "text": [
      "Metric val_loss:_epoch improved by 0.055 >= min_delta = 0.0. New best score: 0.778\n"
     ]
    },
    {
     "data": {
      "text/plain": [
       "Validation: |          | 0/? [00:00<?, ?it/s]"
      ],
      "application/vnd.jupyter.widget-view+json": {
       "version_major": 2,
       "version_minor": 0,
       "model_id": "676238308c604a348314cd60e8234487"
      }
     },
     "metadata": {},
     "output_type": "display_data"
    },
    {
     "data": {
      "text/plain": [
       "Validation: |          | 0/? [00:00<?, ?it/s]"
      ],
      "application/vnd.jupyter.widget-view+json": {
       "version_major": 2,
       "version_minor": 0,
       "model_id": "0aa6f837970d4ce5b0458bf17270521f"
      }
     },
     "metadata": {},
     "output_type": "display_data"
    },
    {
     "name": "stderr",
     "output_type": "stream",
     "text": [
      "Metric val_loss:_epoch improved by 0.015 >= min_delta = 0.0. New best score: 0.763\n"
     ]
    },
    {
     "data": {
      "text/plain": [
       "Validation: |          | 0/? [00:00<?, ?it/s]"
      ],
      "application/vnd.jupyter.widget-view+json": {
       "version_major": 2,
       "version_minor": 0,
       "model_id": "108b0b11a12f4e94916e155eafe96056"
      }
     },
     "metadata": {},
     "output_type": "display_data"
    },
    {
     "name": "stderr",
     "output_type": "stream",
     "text": [
      "Metric val_loss:_epoch improved by 0.025 >= min_delta = 0.0. New best score: 0.739\n"
     ]
    },
    {
     "data": {
      "text/plain": [
       "Validation: |          | 0/? [00:00<?, ?it/s]"
      ],
      "application/vnd.jupyter.widget-view+json": {
       "version_major": 2,
       "version_minor": 0,
       "model_id": "9298b9ea53674353b00e48f5feffc273"
      }
     },
     "metadata": {},
     "output_type": "display_data"
    },
    {
     "name": "stderr",
     "output_type": "stream",
     "text": [
      "Metric val_loss:_epoch improved by 0.029 >= min_delta = 0.0. New best score: 0.710\n"
     ]
    },
    {
     "data": {
      "text/plain": [
       "Validation: |          | 0/? [00:00<?, ?it/s]"
      ],
      "application/vnd.jupyter.widget-view+json": {
       "version_major": 2,
       "version_minor": 0,
       "model_id": "0eb8b00131ed49029e19985995f8e3c9"
      }
     },
     "metadata": {},
     "output_type": "display_data"
    },
    {
     "name": "stderr",
     "output_type": "stream",
     "text": [
      "Metric val_loss:_epoch improved by 0.008 >= min_delta = 0.0. New best score: 0.701\n"
     ]
    },
    {
     "data": {
      "text/plain": [
       "Validation: |          | 0/? [00:00<?, ?it/s]"
      ],
      "application/vnd.jupyter.widget-view+json": {
       "version_major": 2,
       "version_minor": 0,
       "model_id": "40617b4e1a8b4ccb92f85804846d7537"
      }
     },
     "metadata": {},
     "output_type": "display_data"
    },
    {
     "name": "stderr",
     "output_type": "stream",
     "text": [
      "Metric val_loss:_epoch improved by 0.010 >= min_delta = 0.0. New best score: 0.691\n"
     ]
    },
    {
     "data": {
      "text/plain": [
       "Validation: |          | 0/? [00:00<?, ?it/s]"
      ],
      "application/vnd.jupyter.widget-view+json": {
       "version_major": 2,
       "version_minor": 0,
       "model_id": "ac725fd017dd48319fe0ca064f88ecf0"
      }
     },
     "metadata": {},
     "output_type": "display_data"
    },
    {
     "name": "stderr",
     "output_type": "stream",
     "text": [
      "Metric val_loss:_epoch improved by 0.014 >= min_delta = 0.0. New best score: 0.677\n"
     ]
    },
    {
     "data": {
      "text/plain": [
       "Validation: |          | 0/? [00:00<?, ?it/s]"
      ],
      "application/vnd.jupyter.widget-view+json": {
       "version_major": 2,
       "version_minor": 0,
       "model_id": "e97ccc70925049d5be073f61d3829134"
      }
     },
     "metadata": {},
     "output_type": "display_data"
    },
    {
     "name": "stderr",
     "output_type": "stream",
     "text": [
      "Metric val_loss:_epoch improved by 0.012 >= min_delta = 0.0. New best score: 0.665\n"
     ]
    },
    {
     "data": {
      "text/plain": [
       "Validation: |          | 0/? [00:00<?, ?it/s]"
      ],
      "application/vnd.jupyter.widget-view+json": {
       "version_major": 2,
       "version_minor": 0,
       "model_id": "08c402318c304667a2db5c1ec5dd5dca"
      }
     },
     "metadata": {},
     "output_type": "display_data"
    },
    {
     "name": "stderr",
     "output_type": "stream",
     "text": [
      "Metric val_loss:_epoch improved by 0.009 >= min_delta = 0.0. New best score: 0.655\n"
     ]
    },
    {
     "data": {
      "text/plain": [
       "Validation: |          | 0/? [00:00<?, ?it/s]"
      ],
      "application/vnd.jupyter.widget-view+json": {
       "version_major": 2,
       "version_minor": 0,
       "model_id": "52aa4a1553fd40ea8b2148735fa25849"
      }
     },
     "metadata": {},
     "output_type": "display_data"
    },
    {
     "name": "stderr",
     "output_type": "stream",
     "text": [
      "Metric val_loss:_epoch improved by 0.009 >= min_delta = 0.0. New best score: 0.646\n"
     ]
    },
    {
     "data": {
      "text/plain": [
       "Validation: |          | 0/? [00:00<?, ?it/s]"
      ],
      "application/vnd.jupyter.widget-view+json": {
       "version_major": 2,
       "version_minor": 0,
       "model_id": "e0e29851caee49b08d4e385ee2e84a4a"
      }
     },
     "metadata": {},
     "output_type": "display_data"
    },
    {
     "name": "stderr",
     "output_type": "stream",
     "text": [
      "Metric val_loss:_epoch improved by 0.006 >= min_delta = 0.0. New best score: 0.640\n"
     ]
    },
    {
     "data": {
      "text/plain": [
       "Validation: |          | 0/? [00:00<?, ?it/s]"
      ],
      "application/vnd.jupyter.widget-view+json": {
       "version_major": 2,
       "version_minor": 0,
       "model_id": "8f94abe34b4b47e6956c1fe7897336b7"
      }
     },
     "metadata": {},
     "output_type": "display_data"
    },
    {
     "name": "stderr",
     "output_type": "stream",
     "text": [
      "Metric val_loss:_epoch improved by 0.008 >= min_delta = 0.0. New best score: 0.632\n"
     ]
    },
    {
     "data": {
      "text/plain": [
       "Validation: |          | 0/? [00:00<?, ?it/s]"
      ],
      "application/vnd.jupyter.widget-view+json": {
       "version_major": 2,
       "version_minor": 0,
       "model_id": "b405bf66c4974ce78660a476446f796c"
      }
     },
     "metadata": {},
     "output_type": "display_data"
    },
    {
     "name": "stderr",
     "output_type": "stream",
     "text": [
      "Metric val_loss:_epoch improved by 0.010 >= min_delta = 0.0. New best score: 0.622\n"
     ]
    },
    {
     "data": {
      "text/plain": [
       "Validation: |          | 0/? [00:00<?, ?it/s]"
      ],
      "application/vnd.jupyter.widget-view+json": {
       "version_major": 2,
       "version_minor": 0,
       "model_id": "c5285af56ecf43849f5d41870c641da7"
      }
     },
     "metadata": {},
     "output_type": "display_data"
    },
    {
     "name": "stderr",
     "output_type": "stream",
     "text": [
      "Metric val_loss:_epoch improved by 0.010 >= min_delta = 0.0. New best score: 0.612\n"
     ]
    },
    {
     "data": {
      "text/plain": [
       "Validation: |          | 0/? [00:00<?, ?it/s]"
      ],
      "application/vnd.jupyter.widget-view+json": {
       "version_major": 2,
       "version_minor": 0,
       "model_id": "3b0c284335604bc08129fc17f6491a66"
      }
     },
     "metadata": {},
     "output_type": "display_data"
    },
    {
     "name": "stderr",
     "output_type": "stream",
     "text": [
      "Metric val_loss:_epoch improved by 0.010 >= min_delta = 0.0. New best score: 0.602\n"
     ]
    },
    {
     "data": {
      "text/plain": [
       "Validation: |          | 0/? [00:00<?, ?it/s]"
      ],
      "application/vnd.jupyter.widget-view+json": {
       "version_major": 2,
       "version_minor": 0,
       "model_id": "5700a498a2a94311a5a36409bd63440f"
      }
     },
     "metadata": {},
     "output_type": "display_data"
    },
    {
     "name": "stderr",
     "output_type": "stream",
     "text": [
      "Metric val_loss:_epoch improved by 0.009 >= min_delta = 0.0. New best score: 0.594\n"
     ]
    },
    {
     "data": {
      "text/plain": [
       "Validation: |          | 0/? [00:00<?, ?it/s]"
      ],
      "application/vnd.jupyter.widget-view+json": {
       "version_major": 2,
       "version_minor": 0,
       "model_id": "adb9bceef7724e0bb7ca268c34f00a94"
      }
     },
     "metadata": {},
     "output_type": "display_data"
    },
    {
     "name": "stderr",
     "output_type": "stream",
     "text": [
      "Metric val_loss:_epoch improved by 0.005 >= min_delta = 0.0. New best score: 0.589\n"
     ]
    },
    {
     "data": {
      "text/plain": [
       "Validation: |          | 0/? [00:00<?, ?it/s]"
      ],
      "application/vnd.jupyter.widget-view+json": {
       "version_major": 2,
       "version_minor": 0,
       "model_id": "135246a7fc89431a8708a9d0cb39267c"
      }
     },
     "metadata": {},
     "output_type": "display_data"
    },
    {
     "name": "stderr",
     "output_type": "stream",
     "text": [
      "Metric val_loss:_epoch improved by 0.007 >= min_delta = 0.0. New best score: 0.582\n"
     ]
    },
    {
     "data": {
      "text/plain": [
       "Validation: |          | 0/? [00:00<?, ?it/s]"
      ],
      "application/vnd.jupyter.widget-view+json": {
       "version_major": 2,
       "version_minor": 0,
       "model_id": "fd26e64e44d047d48e419ed8b50f94f1"
      }
     },
     "metadata": {},
     "output_type": "display_data"
    },
    {
     "name": "stderr",
     "output_type": "stream",
     "text": [
      "Metric val_loss:_epoch improved by 0.005 >= min_delta = 0.0. New best score: 0.577\n"
     ]
    },
    {
     "data": {
      "text/plain": [
       "Validation: |          | 0/? [00:00<?, ?it/s]"
      ],
      "application/vnd.jupyter.widget-view+json": {
       "version_major": 2,
       "version_minor": 0,
       "model_id": "19d0497d5c2148bda7c330f63827e406"
      }
     },
     "metadata": {},
     "output_type": "display_data"
    },
    {
     "name": "stderr",
     "output_type": "stream",
     "text": [
      "Metric val_loss:_epoch improved by 0.006 >= min_delta = 0.0. New best score: 0.571\n"
     ]
    },
    {
     "data": {
      "text/plain": [
       "Validation: |          | 0/? [00:00<?, ?it/s]"
      ],
      "application/vnd.jupyter.widget-view+json": {
       "version_major": 2,
       "version_minor": 0,
       "model_id": "d8553d9c18734623bde65ca439739dad"
      }
     },
     "metadata": {},
     "output_type": "display_data"
    },
    {
     "name": "stderr",
     "output_type": "stream",
     "text": [
      "Metric val_loss:_epoch improved by 0.003 >= min_delta = 0.0. New best score: 0.568\n"
     ]
    },
    {
     "data": {
      "text/plain": [
       "Validation: |          | 0/? [00:00<?, ?it/s]"
      ],
      "application/vnd.jupyter.widget-view+json": {
       "version_major": 2,
       "version_minor": 0,
       "model_id": "72c9485fcd034ade9391b0a70dbb2390"
      }
     },
     "metadata": {},
     "output_type": "display_data"
    },
    {
     "name": "stderr",
     "output_type": "stream",
     "text": [
      "Metric val_loss:_epoch improved by 0.006 >= min_delta = 0.0. New best score: 0.561\n"
     ]
    },
    {
     "data": {
      "text/plain": [
       "Validation: |          | 0/? [00:00<?, ?it/s]"
      ],
      "application/vnd.jupyter.widget-view+json": {
       "version_major": 2,
       "version_minor": 0,
       "model_id": "2be19348f37c460eadf09a921ff56511"
      }
     },
     "metadata": {},
     "output_type": "display_data"
    },
    {
     "name": "stderr",
     "output_type": "stream",
     "text": [
      "Metric val_loss:_epoch improved by 0.004 >= min_delta = 0.0. New best score: 0.557\n"
     ]
    },
    {
     "data": {
      "text/plain": [
       "Validation: |          | 0/? [00:00<?, ?it/s]"
      ],
      "application/vnd.jupyter.widget-view+json": {
       "version_major": 2,
       "version_minor": 0,
       "model_id": "1d63c328b3824ce5aa66f924157b98d6"
      }
     },
     "metadata": {},
     "output_type": "display_data"
    },
    {
     "name": "stderr",
     "output_type": "stream",
     "text": [
      "Metric val_loss:_epoch improved by 0.001 >= min_delta = 0.0. New best score: 0.556\n"
     ]
    },
    {
     "data": {
      "text/plain": [
       "Validation: |          | 0/? [00:00<?, ?it/s]"
      ],
      "application/vnd.jupyter.widget-view+json": {
       "version_major": 2,
       "version_minor": 0,
       "model_id": "f34a96e473024e158aa43535d1ba0113"
      }
     },
     "metadata": {},
     "output_type": "display_data"
    },
    {
     "name": "stderr",
     "output_type": "stream",
     "text": [
      "Metric val_loss:_epoch improved by 0.010 >= min_delta = 0.0. New best score: 0.547\n"
     ]
    },
    {
     "data": {
      "text/plain": [
       "Validation: |          | 0/? [00:00<?, ?it/s]"
      ],
      "application/vnd.jupyter.widget-view+json": {
       "version_major": 2,
       "version_minor": 0,
       "model_id": "c261d78b2aa040a68d80ec232bd47463"
      }
     },
     "metadata": {},
     "output_type": "display_data"
    },
    {
     "name": "stderr",
     "output_type": "stream",
     "text": [
      "Metric val_loss:_epoch improved by 0.005 >= min_delta = 0.0. New best score: 0.541\n"
     ]
    },
    {
     "data": {
      "text/plain": [
       "Validation: |          | 0/? [00:00<?, ?it/s]"
      ],
      "application/vnd.jupyter.widget-view+json": {
       "version_major": 2,
       "version_minor": 0,
       "model_id": "c0bbf065b031454cb8d5e1de7582f1b7"
      }
     },
     "metadata": {},
     "output_type": "display_data"
    },
    {
     "name": "stderr",
     "output_type": "stream",
     "text": [
      "Metric val_loss:_epoch improved by 0.002 >= min_delta = 0.0. New best score: 0.540\n"
     ]
    },
    {
     "data": {
      "text/plain": [
       "Validation: |          | 0/? [00:00<?, ?it/s]"
      ],
      "application/vnd.jupyter.widget-view+json": {
       "version_major": 2,
       "version_minor": 0,
       "model_id": "a8a4a2d74e6a4304b23969212ccbd3b0"
      }
     },
     "metadata": {},
     "output_type": "display_data"
    },
    {
     "name": "stderr",
     "output_type": "stream",
     "text": [
      "Metric val_loss:_epoch improved by 0.003 >= min_delta = 0.0. New best score: 0.537\n"
     ]
    },
    {
     "data": {
      "text/plain": [
       "Validation: |          | 0/? [00:00<?, ?it/s]"
      ],
      "application/vnd.jupyter.widget-view+json": {
       "version_major": 2,
       "version_minor": 0,
       "model_id": "8a7006a4029c4841830f1be6bd2d1681"
      }
     },
     "metadata": {},
     "output_type": "display_data"
    },
    {
     "name": "stderr",
     "output_type": "stream",
     "text": [
      "Metric val_loss:_epoch improved by 0.003 >= min_delta = 0.0. New best score: 0.534\n"
     ]
    },
    {
     "data": {
      "text/plain": [
       "Validation: |          | 0/? [00:00<?, ?it/s]"
      ],
      "application/vnd.jupyter.widget-view+json": {
       "version_major": 2,
       "version_minor": 0,
       "model_id": "18b1114900a841b5938d5f6284a94e8b"
      }
     },
     "metadata": {},
     "output_type": "display_data"
    },
    {
     "data": {
      "text/plain": [
       "Validation: |          | 0/? [00:00<?, ?it/s]"
      ],
      "application/vnd.jupyter.widget-view+json": {
       "version_major": 2,
       "version_minor": 0,
       "model_id": "f30f1bb958b049a794108d106efedd6f"
      }
     },
     "metadata": {},
     "output_type": "display_data"
    },
    {
     "data": {
      "text/plain": [
       "Validation: |          | 0/? [00:00<?, ?it/s]"
      ],
      "application/vnd.jupyter.widget-view+json": {
       "version_major": 2,
       "version_minor": 0,
       "model_id": "6ee9d5af2ccf4684aae6bbd9a2fb044e"
      }
     },
     "metadata": {},
     "output_type": "display_data"
    },
    {
     "data": {
      "text/plain": [
       "Validation: |          | 0/? [00:00<?, ?it/s]"
      ],
      "application/vnd.jupyter.widget-view+json": {
       "version_major": 2,
       "version_minor": 0,
       "model_id": "da7eb4325754486f874d9c72c42f5b68"
      }
     },
     "metadata": {},
     "output_type": "display_data"
    },
    {
     "data": {
      "text/plain": [
       "Validation: |          | 0/? [00:00<?, ?it/s]"
      ],
      "application/vnd.jupyter.widget-view+json": {
       "version_major": 2,
       "version_minor": 0,
       "model_id": "002e541e12734ba6b148d07f077587c0"
      }
     },
     "metadata": {},
     "output_type": "display_data"
    },
    {
     "name": "stderr",
     "output_type": "stream",
     "text": [
      "Metric val_loss:_epoch improved by 0.001 >= min_delta = 0.0. New best score: 0.533\n"
     ]
    },
    {
     "data": {
      "text/plain": [
       "Validation: |          | 0/? [00:00<?, ?it/s]"
      ],
      "application/vnd.jupyter.widget-view+json": {
       "version_major": 2,
       "version_minor": 0,
       "model_id": "16f7656b17954be4ab0bbc711ac55d84"
      }
     },
     "metadata": {},
     "output_type": "display_data"
    },
    {
     "name": "stderr",
     "output_type": "stream",
     "text": [
      "Metric val_loss:_epoch improved by 0.003 >= min_delta = 0.0. New best score: 0.530\n"
     ]
    },
    {
     "data": {
      "text/plain": [
       "Validation: |          | 0/? [00:00<?, ?it/s]"
      ],
      "application/vnd.jupyter.widget-view+json": {
       "version_major": 2,
       "version_minor": 0,
       "model_id": "1838e55c27fb45cca68f7d7e63de05fc"
      }
     },
     "metadata": {},
     "output_type": "display_data"
    },
    {
     "name": "stderr",
     "output_type": "stream",
     "text": [
      "Metric val_loss:_epoch improved by 0.001 >= min_delta = 0.0. New best score: 0.528\n"
     ]
    },
    {
     "data": {
      "text/plain": [
       "Validation: |          | 0/? [00:00<?, ?it/s]"
      ],
      "application/vnd.jupyter.widget-view+json": {
       "version_major": 2,
       "version_minor": 0,
       "model_id": "700a991c219b4d37a48e68d3ad437806"
      }
     },
     "metadata": {},
     "output_type": "display_data"
    },
    {
     "data": {
      "text/plain": [
       "Validation: |          | 0/? [00:00<?, ?it/s]"
      ],
      "application/vnd.jupyter.widget-view+json": {
       "version_major": 2,
       "version_minor": 0,
       "model_id": "c603aee8bfdf4cd994134682f11fb339"
      }
     },
     "metadata": {},
     "output_type": "display_data"
    },
    {
     "data": {
      "text/plain": [
       "Validation: |          | 0/? [00:00<?, ?it/s]"
      ],
      "application/vnd.jupyter.widget-view+json": {
       "version_major": 2,
       "version_minor": 0,
       "model_id": "a069bf99af45410298fd4e1edb8cffe6"
      }
     },
     "metadata": {},
     "output_type": "display_data"
    },
    {
     "name": "stderr",
     "output_type": "stream",
     "text": [
      "Metric val_loss:_epoch improved by 0.002 >= min_delta = 0.0. New best score: 0.527\n"
     ]
    },
    {
     "data": {
      "text/plain": [
       "Validation: |          | 0/? [00:00<?, ?it/s]"
      ],
      "application/vnd.jupyter.widget-view+json": {
       "version_major": 2,
       "version_minor": 0,
       "model_id": "1a3a89d3340a48b291f7bec07561f1c1"
      }
     },
     "metadata": {},
     "output_type": "display_data"
    },
    {
     "name": "stderr",
     "output_type": "stream",
     "text": [
      "Metric val_loss:_epoch improved by 0.002 >= min_delta = 0.0. New best score: 0.525\n"
     ]
    },
    {
     "data": {
      "text/plain": [
       "Validation: |          | 0/? [00:00<?, ?it/s]"
      ],
      "application/vnd.jupyter.widget-view+json": {
       "version_major": 2,
       "version_minor": 0,
       "model_id": "6e2b6dc7b1ba403ba512c3b06885075e"
      }
     },
     "metadata": {},
     "output_type": "display_data"
    },
    {
     "data": {
      "text/plain": [
       "Validation: |          | 0/? [00:00<?, ?it/s]"
      ],
      "application/vnd.jupyter.widget-view+json": {
       "version_major": 2,
       "version_minor": 0,
       "model_id": "36a459f7093b43a1a2efd9ea8819fa5c"
      }
     },
     "metadata": {},
     "output_type": "display_data"
    },
    {
     "data": {
      "text/plain": [
       "Validation: |          | 0/? [00:00<?, ?it/s]"
      ],
      "application/vnd.jupyter.widget-view+json": {
       "version_major": 2,
       "version_minor": 0,
       "model_id": "6fbdc8977607444691558e6f4593df23"
      }
     },
     "metadata": {},
     "output_type": "display_data"
    },
    {
     "name": "stderr",
     "output_type": "stream",
     "text": [
      "Metric val_loss:_epoch improved by 0.001 >= min_delta = 0.0. New best score: 0.523\n"
     ]
    },
    {
     "data": {
      "text/plain": [
       "Validation: |          | 0/? [00:00<?, ?it/s]"
      ],
      "application/vnd.jupyter.widget-view+json": {
       "version_major": 2,
       "version_minor": 0,
       "model_id": "c27e6d37f4d649c8bfac40548c359af4"
      }
     },
     "metadata": {},
     "output_type": "display_data"
    },
    {
     "data": {
      "text/plain": [
       "Validation: |          | 0/? [00:00<?, ?it/s]"
      ],
      "application/vnd.jupyter.widget-view+json": {
       "version_major": 2,
       "version_minor": 0,
       "model_id": "3992c9fdade74ee3a69f6a9fcc42edf1"
      }
     },
     "metadata": {},
     "output_type": "display_data"
    },
    {
     "data": {
      "text/plain": [
       "Validation: |          | 0/? [00:00<?, ?it/s]"
      ],
      "application/vnd.jupyter.widget-view+json": {
       "version_major": 2,
       "version_minor": 0,
       "model_id": "0735337287524c868c16040845f28d94"
      }
     },
     "metadata": {},
     "output_type": "display_data"
    },
    {
     "data": {
      "text/plain": [
       "Validation: |          | 0/? [00:00<?, ?it/s]"
      ],
      "application/vnd.jupyter.widget-view+json": {
       "version_major": 2,
       "version_minor": 0,
       "model_id": "d1ca834db1f04f01b19728167c4ed698"
      }
     },
     "metadata": {},
     "output_type": "display_data"
    },
    {
     "name": "stderr",
     "output_type": "stream",
     "text": [
      "Metric val_loss:_epoch improved by 0.003 >= min_delta = 0.0. New best score: 0.521\n"
     ]
    },
    {
     "data": {
      "text/plain": [
       "Validation: |          | 0/? [00:00<?, ?it/s]"
      ],
      "application/vnd.jupyter.widget-view+json": {
       "version_major": 2,
       "version_minor": 0,
       "model_id": "41cd4f8731e24f6fa41eac5d920d6b82"
      }
     },
     "metadata": {},
     "output_type": "display_data"
    },
    {
     "data": {
      "text/plain": [
       "Validation: |          | 0/? [00:00<?, ?it/s]"
      ],
      "application/vnd.jupyter.widget-view+json": {
       "version_major": 2,
       "version_minor": 0,
       "model_id": "0310ba5732e24695aef61a6001ce1875"
      }
     },
     "metadata": {},
     "output_type": "display_data"
    },
    {
     "data": {
      "text/plain": [
       "Validation: |          | 0/? [00:00<?, ?it/s]"
      ],
      "application/vnd.jupyter.widget-view+json": {
       "version_major": 2,
       "version_minor": 0,
       "model_id": "97c5d823152b4997b05024102d8783af"
      }
     },
     "metadata": {},
     "output_type": "display_data"
    },
    {
     "data": {
      "text/plain": [
       "Validation: |          | 0/? [00:00<?, ?it/s]"
      ],
      "application/vnd.jupyter.widget-view+json": {
       "version_major": 2,
       "version_minor": 0,
       "model_id": "16d93d5b28a34e18a4dbf93f217841e9"
      }
     },
     "metadata": {},
     "output_type": "display_data"
    },
    {
     "data": {
      "text/plain": [
       "Validation: |          | 0/? [00:00<?, ?it/s]"
      ],
      "application/vnd.jupyter.widget-view+json": {
       "version_major": 2,
       "version_minor": 0,
       "model_id": "7bfbccbf311246e587efb358766f50bd"
      }
     },
     "metadata": {},
     "output_type": "display_data"
    },
    {
     "name": "stderr",
     "output_type": "stream",
     "text": [
      "Monitored metric val_loss:_epoch did not improve in the last 5 records. Best score: 0.521. Signaling Trainer to stop.\n"
     ]
    }
   ],
   "execution_count": 8
  },
  {
   "metadata": {
    "ExecuteTime": {
     "end_time": "2025-05-04T10:31:01.792565Z",
     "start_time": "2025-05-04T10:31:01.736392Z"
    }
   },
   "cell_type": "code",
   "source": "len(val_dataset)",
   "id": "e7974d7df82b42dd",
   "outputs": [
    {
     "data": {
      "text/plain": [
       "100"
      ]
     },
     "execution_count": 10,
     "metadata": {},
     "output_type": "execute_result"
    }
   ],
   "execution_count": 10
  },
  {
   "metadata": {
    "ExecuteTime": {
     "end_time": "2025-05-04T10:31:28.229292Z",
     "start_time": "2025-05-04T10:31:28.191505Z"
    }
   },
   "cell_type": "code",
   "source": "val_dataset[0]",
   "id": "ce65512ba3bde9bd",
   "outputs": [
    {
     "data": {
      "text/plain": [
       "Data(x=[50, 10, 1], edge_index=[2, 150], edge_attr=[150, 1], y=[10, 2, 1], adj_matrix=[50, 50])"
      ]
     },
     "execution_count": 11,
     "metadata": {},
     "output_type": "execute_result"
    }
   ],
   "execution_count": 11
  },
  {
   "metadata": {
    "ExecuteTime": {
     "end_time": "2025-05-04T11:39:33.656587Z",
     "start_time": "2025-05-04T11:39:24.523712Z"
    }
   },
   "cell_type": "code",
   "source": [
    "x_points_list = []\n",
    "x_hat_alg_3_list = []\n",
    "for graph in tqdm(val_dataset):\n",
    "    x_points = graph.y[..., 0].numpy().T\n",
    "    x_points_list.append(x_points)\n",
    "    meas = graph.x.numpy().transpose(0, 2, 1)\n",
    "    adj_matrix = graph.adj_matrix.numpy()\n",
    "    x_hat_alg_3 = diffusion_extended_kalman_filter_parallel_edge(meas, f_sys, h_sys, r_array, q, P0, x0, adj_matrix, time_steps=10, node_num=50)\n",
    "    # x_hat_local_kalman_list.append(x_hat_local_kalman)\n",
    "    x_hat_alg_3_list.append(x_hat_alg_3)\n",
    "x_points = np.stack(x_points_list, axis=0)\n",
    "\n",
    "x_hat_alg_3 = np.stack(x_hat_alg_3_list, axis=0)"
   ],
   "id": "85a1a0b5165caade",
   "outputs": [
    {
     "data": {
      "text/plain": [
       "  0%|          | 0/100 [00:00<?, ?it/s]"
      ],
      "application/vnd.jupyter.widget-view+json": {
       "version_major": 2,
       "version_minor": 0,
       "model_id": "5d83b4ab3dbb4024a618f471818854ef"
      }
     },
     "metadata": {},
     "output_type": "display_data"
    }
   ],
   "execution_count": 23
  },
  {
   "metadata": {
    "ExecuteTime": {
     "end_time": "2025-05-04T11:39:34.282098Z",
     "start_time": "2025-05-04T11:39:34.265843Z"
    }
   },
   "cell_type": "code",
   "source": "x_hat_alg_3",
   "id": "d783443c15187e89",
   "outputs": [
    {
     "data": {
      "text/plain": [
       "array([[[[[ 4.42215614],\n",
       "          [ 5.76468666]],\n",
       "\n",
       "         [[ 4.32198179],\n",
       "          [ 5.9706175 ]],\n",
       "\n",
       "         [[ 4.40909669],\n",
       "          [ 5.57425806]],\n",
       "\n",
       "         ...,\n",
       "\n",
       "         [[ 3.96074681],\n",
       "          [ 6.22785156]],\n",
       "\n",
       "         [[ 4.60911746],\n",
       "          [ 5.4331455 ]],\n",
       "\n",
       "         [[ 4.64634212],\n",
       "          [ 5.74275514]]],\n",
       "\n",
       "\n",
       "        [[[ 7.20278365],\n",
       "          [ 8.56923005]],\n",
       "\n",
       "         [[ 7.40803924],\n",
       "          [ 8.88303809]],\n",
       "\n",
       "         [[ 7.36503762],\n",
       "          [ 8.6354478 ]],\n",
       "\n",
       "         ...,\n",
       "\n",
       "         [[ 7.23696148],\n",
       "          [ 8.58159905]],\n",
       "\n",
       "         [[ 7.83749417],\n",
       "          [ 9.21280109]],\n",
       "\n",
       "         [[ 7.37320906],\n",
       "          [ 8.75473238]]],\n",
       "\n",
       "\n",
       "        [[[ 9.81168678],\n",
       "          [ 9.41778309]],\n",
       "\n",
       "         [[ 9.91938351],\n",
       "          [ 9.72692957]],\n",
       "\n",
       "         [[ 9.62989279],\n",
       "          [ 9.46891511]],\n",
       "\n",
       "         ...,\n",
       "\n",
       "         [[ 9.90278176],\n",
       "          [ 9.50729321]],\n",
       "\n",
       "         [[ 9.89606053],\n",
       "          [ 9.58404344]],\n",
       "\n",
       "         [[ 9.89517395],\n",
       "          [ 9.68435307]]],\n",
       "\n",
       "\n",
       "        ...,\n",
       "\n",
       "\n",
       "        [[[ 9.97973278],\n",
       "          [ 6.14805813]],\n",
       "\n",
       "         [[10.03015403],\n",
       "          [ 6.08094491]],\n",
       "\n",
       "         [[10.56798038],\n",
       "          [ 6.01823536]],\n",
       "\n",
       "         ...,\n",
       "\n",
       "         [[10.34020505],\n",
       "          [ 6.21168662]],\n",
       "\n",
       "         [[10.2074615 ],\n",
       "          [ 5.95618359]],\n",
       "\n",
       "         [[ 9.82445191],\n",
       "          [ 6.09186112]]],\n",
       "\n",
       "\n",
       "        [[[ 9.51552623],\n",
       "          [ 4.90547027]],\n",
       "\n",
       "         [[ 9.63975595],\n",
       "          [ 5.02133201]],\n",
       "\n",
       "         [[ 9.25474699],\n",
       "          [ 4.68933096]],\n",
       "\n",
       "         ...,\n",
       "\n",
       "         [[ 9.35450974],\n",
       "          [ 4.81787958]],\n",
       "\n",
       "         [[ 9.32664417],\n",
       "          [ 4.79440034]],\n",
       "\n",
       "         [[ 9.35599526],\n",
       "          [ 4.78493077]]],\n",
       "\n",
       "\n",
       "        [[[ 9.69912158],\n",
       "          [ 2.56269288]],\n",
       "\n",
       "         [[ 9.89982319],\n",
       "          [ 2.58730707]],\n",
       "\n",
       "         [[ 9.93617681],\n",
       "          [ 2.55902001]],\n",
       "\n",
       "         ...,\n",
       "\n",
       "         [[ 9.4525718 ],\n",
       "          [ 2.76714832]],\n",
       "\n",
       "         [[ 9.6396939 ],\n",
       "          [ 2.72203949]],\n",
       "\n",
       "         [[ 9.6278862 ],\n",
       "          [ 2.70963611]]]],\n",
       "\n",
       "\n",
       "\n",
       "       [[[[ 4.7047576 ],\n",
       "          [ 5.43182402]],\n",
       "\n",
       "         [[ 4.51519967],\n",
       "          [ 5.69052394]],\n",
       "\n",
       "         [[ 4.69168686],\n",
       "          [ 5.3167013 ]],\n",
       "\n",
       "         ...,\n",
       "\n",
       "         [[ 4.28109783],\n",
       "          [ 5.95396317]],\n",
       "\n",
       "         [[ 4.80095805],\n",
       "          [ 5.03269258]],\n",
       "\n",
       "         [[ 4.5968528 ],\n",
       "          [ 5.39030799]]],\n",
       "\n",
       "\n",
       "        [[[ 8.51201109],\n",
       "          [10.64397165]],\n",
       "\n",
       "         [[ 8.29491042],\n",
       "          [10.6327633 ]],\n",
       "\n",
       "         [[ 8.38828844],\n",
       "          [10.61344405]],\n",
       "\n",
       "         ...,\n",
       "\n",
       "         [[ 8.48758592],\n",
       "          [11.01019841]],\n",
       "\n",
       "         [[ 8.49392923],\n",
       "          [11.05012886]],\n",
       "\n",
       "         [[ 8.37241113],\n",
       "          [10.68272641]]],\n",
       "\n",
       "\n",
       "        [[[ 9.92099162],\n",
       "          [10.23655642]],\n",
       "\n",
       "         [[ 9.80200045],\n",
       "          [10.13336618]],\n",
       "\n",
       "         [[ 9.2700747 ],\n",
       "          [10.40351502]],\n",
       "\n",
       "         ...,\n",
       "\n",
       "         [[ 9.73530544],\n",
       "          [ 9.88307069]],\n",
       "\n",
       "         [[ 9.72527394],\n",
       "          [10.39462357]],\n",
       "\n",
       "         [[ 9.84260198],\n",
       "          [10.12719702]]],\n",
       "\n",
       "\n",
       "        ...,\n",
       "\n",
       "\n",
       "        [[[ 9.63086258],\n",
       "          [ 7.87748172]],\n",
       "\n",
       "         [[ 9.46426541],\n",
       "          [ 7.94060494]],\n",
       "\n",
       "         [[ 9.80379123],\n",
       "          [ 8.08891527]],\n",
       "\n",
       "         ...,\n",
       "\n",
       "         [[ 9.57004454],\n",
       "          [ 7.88517594]],\n",
       "\n",
       "         [[ 9.66977977],\n",
       "          [ 8.06433749]],\n",
       "\n",
       "         [[ 9.49026793],\n",
       "          [ 7.87642718]]],\n",
       "\n",
       "\n",
       "        [[[ 8.78765714],\n",
       "          [ 6.92960172]],\n",
       "\n",
       "         [[ 8.92349223],\n",
       "          [ 7.06949463]],\n",
       "\n",
       "         [[ 9.05108158],\n",
       "          [ 7.83381815]],\n",
       "\n",
       "         ...,\n",
       "\n",
       "         [[ 8.91708142],\n",
       "          [ 6.94872625]],\n",
       "\n",
       "         [[ 8.83204895],\n",
       "          [ 7.09427546]],\n",
       "\n",
       "         [[ 8.78578368],\n",
       "          [ 7.02178643]]],\n",
       "\n",
       "\n",
       "        [[[ 8.94596986],\n",
       "          [ 7.90635973]],\n",
       "\n",
       "         [[ 8.71350335],\n",
       "          [ 7.86841305]],\n",
       "\n",
       "         [[ 9.3468355 ],\n",
       "          [ 7.9304292 ]],\n",
       "\n",
       "         ...,\n",
       "\n",
       "         [[ 9.04225955],\n",
       "          [ 8.05025082]],\n",
       "\n",
       "         [[ 8.8890376 ],\n",
       "          [ 8.09793414]],\n",
       "\n",
       "         [[ 8.91810647],\n",
       "          [ 8.00371107]]]],\n",
       "\n",
       "\n",
       "\n",
       "       [[[[ 4.54343771],\n",
       "          [ 5.85794013]],\n",
       "\n",
       "         [[ 4.28847922],\n",
       "          [ 6.14292849]],\n",
       "\n",
       "         [[ 4.52808073],\n",
       "          [ 5.56172748]],\n",
       "\n",
       "         ...,\n",
       "\n",
       "         [[ 4.00444757],\n",
       "          [ 6.51161906]],\n",
       "\n",
       "         [[ 4.61108631],\n",
       "          [ 5.50671972]],\n",
       "\n",
       "         [[ 4.50637208],\n",
       "          [ 5.87642965]]],\n",
       "\n",
       "\n",
       "        [[[ 8.12250118],\n",
       "          [ 9.43347672]],\n",
       "\n",
       "         [[ 8.00177868],\n",
       "          [ 9.58168184]],\n",
       "\n",
       "         [[ 7.80145448],\n",
       "          [ 8.52099114]],\n",
       "\n",
       "         ...,\n",
       "\n",
       "         [[ 7.81107161],\n",
       "          [ 9.69662404]],\n",
       "\n",
       "         [[ 8.14516718],\n",
       "          [ 9.34665079]],\n",
       "\n",
       "         [[ 7.91680897],\n",
       "          [ 9.64614948]]],\n",
       "\n",
       "\n",
       "        [[[ 9.62467172],\n",
       "          [ 8.58997411]],\n",
       "\n",
       "         [[ 9.31398848],\n",
       "          [ 8.72114862]],\n",
       "\n",
       "         [[ 8.722027  ],\n",
       "          [ 8.87899632]],\n",
       "\n",
       "         ...,\n",
       "\n",
       "         [[ 9.21417704],\n",
       "          [ 8.58934806]],\n",
       "\n",
       "         [[ 9.6363514 ],\n",
       "          [ 8.77072764]],\n",
       "\n",
       "         [[ 9.68436059],\n",
       "          [ 8.71202029]]],\n",
       "\n",
       "\n",
       "        ...,\n",
       "\n",
       "\n",
       "        [[[10.30295644],\n",
       "          [ 8.95274088]],\n",
       "\n",
       "         [[10.19583573],\n",
       "          [ 9.20599171]],\n",
       "\n",
       "         [[ 9.86809332],\n",
       "          [ 9.44056689]],\n",
       "\n",
       "         ...,\n",
       "\n",
       "         [[10.50201377],\n",
       "          [ 8.96533007]],\n",
       "\n",
       "         [[10.15114117],\n",
       "          [ 9.4552765 ]],\n",
       "\n",
       "         [[10.40386738],\n",
       "          [ 9.14123656]]],\n",
       "\n",
       "\n",
       "        [[[ 9.774218  ],\n",
       "          [ 9.64060491]],\n",
       "\n",
       "         [[ 9.74026825],\n",
       "          [ 9.56902372]],\n",
       "\n",
       "         [[ 9.46144934],\n",
       "          [ 9.71551641]],\n",
       "\n",
       "         ...,\n",
       "\n",
       "         [[ 9.76759951],\n",
       "          [ 9.71073738]],\n",
       "\n",
       "         [[ 9.64552616],\n",
       "          [ 9.28740326]],\n",
       "\n",
       "         [[ 9.74341035],\n",
       "          [ 9.50200862]]],\n",
       "\n",
       "\n",
       "        [[[ 8.1102073 ],\n",
       "          [10.60392902]],\n",
       "\n",
       "         [[ 8.12663755],\n",
       "          [10.60435328]],\n",
       "\n",
       "         [[ 8.57804324],\n",
       "          [10.2099916 ]],\n",
       "\n",
       "         ...,\n",
       "\n",
       "         [[ 8.19005374],\n",
       "          [10.30961452]],\n",
       "\n",
       "         [[ 8.29114148],\n",
       "          [10.39818907]],\n",
       "\n",
       "         [[ 8.36237477],\n",
       "          [10.47044399]]]],\n",
       "\n",
       "\n",
       "\n",
       "       ...,\n",
       "\n",
       "\n",
       "\n",
       "       [[[[ 4.0848243 ],\n",
       "          [ 4.62398247]],\n",
       "\n",
       "         [[ 3.97141285],\n",
       "          [ 4.57914005]],\n",
       "\n",
       "         [[ 4.33204145],\n",
       "          [ 4.39122774]],\n",
       "\n",
       "         ...,\n",
       "\n",
       "         [[ 3.66243306],\n",
       "          [ 5.27971313]],\n",
       "\n",
       "         [[ 4.07997429],\n",
       "          [ 4.40250176]],\n",
       "\n",
       "         [[ 3.92441218],\n",
       "          [ 4.62469395]]],\n",
       "\n",
       "\n",
       "        [[[ 7.11491797],\n",
       "          [10.35340758]],\n",
       "\n",
       "         [[ 7.11816732],\n",
       "          [10.10479834]],\n",
       "\n",
       "         [[ 7.38789861],\n",
       "          [10.04547132]],\n",
       "\n",
       "         ...,\n",
       "\n",
       "         [[ 6.67088269],\n",
       "          [10.61411532]],\n",
       "\n",
       "         [[ 7.22368416],\n",
       "          [10.48852366]],\n",
       "\n",
       "         [[ 6.79262693],\n",
       "          [10.23458973]]],\n",
       "\n",
       "\n",
       "        [[[ 9.49232924],\n",
       "          [ 8.51714357]],\n",
       "\n",
       "         [[ 9.42443789],\n",
       "          [ 8.45666358]],\n",
       "\n",
       "         [[ 8.89972483],\n",
       "          [ 9.02934824]],\n",
       "\n",
       "         ...,\n",
       "\n",
       "         [[ 9.26710117],\n",
       "          [ 8.17859934]],\n",
       "\n",
       "         [[ 9.8428896 ],\n",
       "          [ 8.62323014]],\n",
       "\n",
       "         [[ 9.50221617],\n",
       "          [ 8.55169166]]],\n",
       "\n",
       "\n",
       "        ...,\n",
       "\n",
       "\n",
       "        [[[ 9.06638157],\n",
       "          [11.58718743]],\n",
       "\n",
       "         [[ 8.9703332 ],\n",
       "          [11.56079325]],\n",
       "\n",
       "         [[ 9.50841347],\n",
       "          [11.16283041]],\n",
       "\n",
       "         ...,\n",
       "\n",
       "         [[ 9.13199984],\n",
       "          [11.64209129]],\n",
       "\n",
       "         [[ 9.09344157],\n",
       "          [11.12201217]],\n",
       "\n",
       "         [[ 8.85949717],\n",
       "          [11.43148621]]],\n",
       "\n",
       "\n",
       "        [[[10.28299152],\n",
       "          [12.21170073]],\n",
       "\n",
       "         [[10.34553975],\n",
       "          [12.40741477]],\n",
       "\n",
       "         [[10.04304796],\n",
       "          [12.32625755]],\n",
       "\n",
       "         ...,\n",
       "\n",
       "         [[10.11360623],\n",
       "          [11.80993694]],\n",
       "\n",
       "         [[10.32219549],\n",
       "          [11.69077698]],\n",
       "\n",
       "         [[10.4401782 ],\n",
       "          [12.07424361]]],\n",
       "\n",
       "\n",
       "        [[[10.03424367],\n",
       "          [11.93887228]],\n",
       "\n",
       "         [[10.06946129],\n",
       "          [11.76354312]],\n",
       "\n",
       "         [[ 9.59897265],\n",
       "          [11.76457841]],\n",
       "\n",
       "         ...,\n",
       "\n",
       "         [[ 9.56006479],\n",
       "          [11.93764034]],\n",
       "\n",
       "         [[ 9.96029526],\n",
       "          [11.8875485 ]],\n",
       "\n",
       "         [[ 9.9383484 ],\n",
       "          [11.84834752]]]],\n",
       "\n",
       "\n",
       "\n",
       "       [[[[ 3.89301488],\n",
       "          [ 6.59233042]],\n",
       "\n",
       "         [[ 3.75454128],\n",
       "          [ 6.89525687]],\n",
       "\n",
       "         [[ 3.61890905],\n",
       "          [ 6.18381299]],\n",
       "\n",
       "         ...,\n",
       "\n",
       "         [[ 3.39740931],\n",
       "          [ 7.20495779]],\n",
       "\n",
       "         [[ 3.97308941],\n",
       "          [ 6.35937163]],\n",
       "\n",
       "         [[ 3.8914741 ],\n",
       "          [ 6.58479179]]],\n",
       "\n",
       "\n",
       "        [[[ 7.93367125],\n",
       "          [ 6.74621187]],\n",
       "\n",
       "         [[ 7.70406828],\n",
       "          [ 6.73290591]],\n",
       "\n",
       "         [[ 7.83542183],\n",
       "          [ 6.87172922]],\n",
       "\n",
       "         ...,\n",
       "\n",
       "         [[ 7.278776  ],\n",
       "          [ 6.45262532]],\n",
       "\n",
       "         [[ 7.74193941],\n",
       "          [ 6.70101486]],\n",
       "\n",
       "         [[ 7.75315007],\n",
       "          [ 6.65762036]]],\n",
       "\n",
       "\n",
       "        [[[10.3794638 ],\n",
       "          [ 8.04287599]],\n",
       "\n",
       "         [[ 9.86794043],\n",
       "          [ 7.99491844]],\n",
       "\n",
       "         [[10.1753953 ],\n",
       "          [ 8.29745706]],\n",
       "\n",
       "         ...,\n",
       "\n",
       "         [[10.36860054],\n",
       "          [ 8.28037315]],\n",
       "\n",
       "         [[ 9.8844591 ],\n",
       "          [ 8.34332909]],\n",
       "\n",
       "         [[10.38725156],\n",
       "          [ 8.16704684]]],\n",
       "\n",
       "\n",
       "        ...,\n",
       "\n",
       "\n",
       "        [[[ 9.14214181],\n",
       "          [10.51331654]],\n",
       "\n",
       "         [[ 9.10595305],\n",
       "          [10.56430312]],\n",
       "\n",
       "         [[ 9.63992268],\n",
       "          [10.55845504]],\n",
       "\n",
       "         ...,\n",
       "\n",
       "         [[ 9.51250127],\n",
       "          [10.46673594]],\n",
       "\n",
       "         [[ 8.84900852],\n",
       "          [10.12246307]],\n",
       "\n",
       "         [[ 8.95793291],\n",
       "          [10.35888678]]],\n",
       "\n",
       "\n",
       "        [[[ 9.71051723],\n",
       "          [ 9.1417048 ]],\n",
       "\n",
       "         [[ 9.78218766],\n",
       "          [ 9.24335815]],\n",
       "\n",
       "         [[ 9.41540642],\n",
       "          [ 8.88901533]],\n",
       "\n",
       "         ...,\n",
       "\n",
       "         [[ 9.6061379 ],\n",
       "          [ 9.34482998]],\n",
       "\n",
       "         [[ 9.45395887],\n",
       "          [ 9.41058408]],\n",
       "\n",
       "         [[ 9.79828693],\n",
       "          [ 9.30979466]]],\n",
       "\n",
       "\n",
       "        [[[10.02335657],\n",
       "          [ 9.81388261]],\n",
       "\n",
       "         [[10.3781309 ],\n",
       "          [ 9.82343   ]],\n",
       "\n",
       "         [[10.31088541],\n",
       "          [ 9.75926586]],\n",
       "\n",
       "         ...,\n",
       "\n",
       "         [[10.0726595 ],\n",
       "          [ 9.70015658]],\n",
       "\n",
       "         [[10.39569154],\n",
       "          [ 9.73233906]],\n",
       "\n",
       "         [[10.09382847],\n",
       "          [ 9.75486518]]]],\n",
       "\n",
       "\n",
       "\n",
       "       [[[[ 3.63741727],\n",
       "          [ 6.25880029]],\n",
       "\n",
       "         [[ 3.55234935],\n",
       "          [ 6.5173882 ]],\n",
       "\n",
       "         [[ 3.73927894],\n",
       "          [ 6.20331416]],\n",
       "\n",
       "         ...,\n",
       "\n",
       "         [[ 3.2263861 ],\n",
       "          [ 6.73693477]],\n",
       "\n",
       "         [[ 3.69727413],\n",
       "          [ 5.94558513]],\n",
       "\n",
       "         [[ 3.6119407 ],\n",
       "          [ 6.24406124]]],\n",
       "\n",
       "\n",
       "        [[[ 6.05027376],\n",
       "          [10.13464524]],\n",
       "\n",
       "         [[ 6.41478078],\n",
       "          [10.38328719]],\n",
       "\n",
       "         [[ 6.20979898],\n",
       "          [ 9.98324656]],\n",
       "\n",
       "         ...,\n",
       "\n",
       "         [[ 5.62260825],\n",
       "          [10.14788406]],\n",
       "\n",
       "         [[ 6.12651154],\n",
       "          [ 9.76892008]],\n",
       "\n",
       "         [[ 5.89781513],\n",
       "          [10.11070158]]],\n",
       "\n",
       "\n",
       "        [[[ 8.64438456],\n",
       "          [10.80506221]],\n",
       "\n",
       "         [[ 8.41627507],\n",
       "          [10.82164944]],\n",
       "\n",
       "         [[ 8.16501239],\n",
       "          [10.21584699]],\n",
       "\n",
       "         ...,\n",
       "\n",
       "         [[ 8.20379137],\n",
       "          [10.57091401]],\n",
       "\n",
       "         [[ 8.50353326],\n",
       "          [10.02397085]],\n",
       "\n",
       "         [[ 8.69730419],\n",
       "          [10.5580384 ]]],\n",
       "\n",
       "\n",
       "        ...,\n",
       "\n",
       "\n",
       "        [[[ 9.70265806],\n",
       "          [ 8.6799918 ]],\n",
       "\n",
       "         [[ 9.94562735],\n",
       "          [ 8.43529093]],\n",
       "\n",
       "         [[10.31007643],\n",
       "          [ 8.93057003]],\n",
       "\n",
       "         ...,\n",
       "\n",
       "         [[ 9.32526505],\n",
       "          [ 8.35976959]],\n",
       "\n",
       "         [[10.22890783],\n",
       "          [ 8.71424048]],\n",
       "\n",
       "         [[ 9.8368366 ],\n",
       "          [ 8.45879301]]],\n",
       "\n",
       "\n",
       "        [[[ 8.89791154],\n",
       "          [ 9.06724109]],\n",
       "\n",
       "         [[ 9.02836215],\n",
       "          [ 9.06212466]],\n",
       "\n",
       "         [[ 8.43395923],\n",
       "          [ 9.35340017]],\n",
       "\n",
       "         ...,\n",
       "\n",
       "         [[ 9.16250181],\n",
       "          [ 8.96014889]],\n",
       "\n",
       "         [[ 8.80390212],\n",
       "          [ 8.93831586]],\n",
       "\n",
       "         [[ 8.92783188],\n",
       "          [ 8.89383685]]],\n",
       "\n",
       "\n",
       "        [[[10.11181809],\n",
       "          [ 8.33562058]],\n",
       "\n",
       "         [[ 9.91704361],\n",
       "          [ 8.50963007]],\n",
       "\n",
       "         [[ 9.48586946],\n",
       "          [ 8.78390385]],\n",
       "\n",
       "         ...,\n",
       "\n",
       "         [[ 9.51553043],\n",
       "          [ 8.17534685]],\n",
       "\n",
       "         [[10.00967159],\n",
       "          [ 8.28036551]],\n",
       "\n",
       "         [[10.12991766],\n",
       "          [ 8.22517255]]]]])"
      ]
     },
     "execution_count": 24,
     "metadata": {},
     "output_type": "execute_result"
    }
   ],
   "execution_count": 24
  },
  {
   "metadata": {
    "ExecuteTime": {
     "end_time": "2025-05-04T11:44:03.836975Z",
     "start_time": "2025-05-04T11:44:03.804670Z"
    }
   },
   "cell_type": "code",
   "source": "err_alg_3 = np.linalg.norm(x_hat_alg_3 - x_points.transpose(0, 2, 1)[:, :, None, ..., None].repeat(NODE_NUM, axis=2), axis=(-1, -2)).mean(axis=(0, 2))",
   "id": "44731988692e57f7",
   "outputs": [],
   "execution_count": 30
  },
  {
   "metadata": {
    "ExecuteTime": {
     "end_time": "2025-05-04T11:46:45.456829Z",
     "start_time": "2025-05-04T11:46:45.450757Z"
    }
   },
   "cell_type": "code",
   "source": "err_alg_3[1:]",
   "id": "2c6dc3bcd0b41601",
   "outputs": [
    {
     "data": {
      "text/plain": [
       "array([2.12737906, 0.64501009, 0.4994892 , 0.45502138, 0.4706144 ,\n",
       "       0.48465942, 0.4644399 , 0.43621632, 0.47314097])"
      ]
     },
     "execution_count": 36,
     "metadata": {},
     "output_type": "execute_result"
    }
   ],
   "execution_count": 36
  },
  {
   "metadata": {
    "ExecuteTime": {
     "end_time": "2025-05-04T11:43:04.299287Z",
     "start_time": "2025-05-04T11:43:04.285528Z"
    }
   },
   "cell_type": "code",
   "source": "x_points.transpose(0, 2, 1).shape",
   "id": "aeb7db7fa2506541",
   "outputs": [
    {
     "data": {
      "text/plain": [
       "(100, 10, 2)"
      ]
     },
     "execution_count": 28,
     "metadata": {},
     "output_type": "execute_result"
    }
   ],
   "execution_count": 28
  },
  {
   "metadata": {
    "ExecuteTime": {
     "end_time": "2025-05-04T11:43:37.801895Z",
     "start_time": "2025-05-04T11:43:37.792774Z"
    }
   },
   "cell_type": "code",
   "source": "x_points[0, ...]",
   "id": "b29742165f7067da",
   "outputs": [
    {
     "data": {
      "text/plain": [
       "array([[ 9.93004533,  9.30773961, 10.07219948, 10.99209763,  9.7579503 ,\n",
       "         9.19677078, 11.00202033, 10.76947583,  9.325453  ,  9.96717477],\n",
       "       [ 9.4509761 ,  8.9590512 ,  9.65008575,  7.51339912,  6.73104154,\n",
       "         6.60178819,  5.90219713,  5.84460649,  4.5119292 ,  2.11965037]])"
      ]
     },
     "execution_count": 29,
     "metadata": {},
     "output_type": "execute_result"
    }
   ],
   "execution_count": 29
  },
  {
   "metadata": {
    "ExecuteTime": {
     "end_time": "2025-05-10T12:47:57.886766Z",
     "start_time": "2025-05-10T12:47:24.537011Z"
    }
   },
   "cell_type": "code",
   "source": "trainer.predict(kalman_process, val_loader)",
   "id": "f3682c3f08efb622",
   "outputs": [
    {
     "data": {
      "text/plain": [
       "Predicting: |          | 0/? [00:00<?, ?it/s]"
      ],
      "application/vnd.jupyter.widget-view+json": {
       "version_major": 2,
       "version_minor": 0,
       "model_id": "8ca076dff7e741bdaf4891609df3f378"
      }
     },
     "metadata": {},
     "output_type": "display_data"
    },
    {
     "name": "stderr",
     "output_type": "stream",
     "text": [
      "\n",
      "Detected KeyboardInterrupt, attempting graceful shutdown ...\n"
     ]
    },
    {
     "ename": "NameError",
     "evalue": "name 'exit' is not defined",
     "output_type": "error",
     "traceback": [
      "\u001B[1;31m---------------------------------------------------------------------------\u001B[0m",
      "\u001B[1;31mKeyboardInterrupt\u001B[0m                         Traceback (most recent call last)",
      "File \u001B[1;32m~\\anaconda3\\envs\\thesis\\Lib\\site-packages\\pytorch_lightning\\trainer\\call.py:47\u001B[0m, in \u001B[0;36m_call_and_handle_interrupt\u001B[1;34m(trainer, trainer_fn, *args, **kwargs)\u001B[0m\n\u001B[0;32m     46\u001B[0m         \u001B[38;5;28;01mreturn\u001B[39;00m trainer\u001B[38;5;241m.\u001B[39mstrategy\u001B[38;5;241m.\u001B[39mlauncher\u001B[38;5;241m.\u001B[39mlaunch(trainer_fn, \u001B[38;5;241m*\u001B[39margs, trainer\u001B[38;5;241m=\u001B[39mtrainer, \u001B[38;5;241m*\u001B[39m\u001B[38;5;241m*\u001B[39mkwargs)\n\u001B[1;32m---> 47\u001B[0m     \u001B[38;5;28;01mreturn\u001B[39;00m trainer_fn(\u001B[38;5;241m*\u001B[39margs, \u001B[38;5;241m*\u001B[39m\u001B[38;5;241m*\u001B[39mkwargs)\n\u001B[0;32m     49\u001B[0m \u001B[38;5;28;01mexcept\u001B[39;00m _TunerExitException:\n",
      "File \u001B[1;32m~\\anaconda3\\envs\\thesis\\Lib\\site-packages\\pytorch_lightning\\trainer\\trainer.py:897\u001B[0m, in \u001B[0;36mTrainer._predict_impl\u001B[1;34m(self, model, dataloaders, datamodule, return_predictions, ckpt_path)\u001B[0m\n\u001B[0;32m    894\u001B[0m ckpt_path \u001B[38;5;241m=\u001B[39m \u001B[38;5;28mself\u001B[39m\u001B[38;5;241m.\u001B[39m_checkpoint_connector\u001B[38;5;241m.\u001B[39m_select_ckpt_path(\n\u001B[0;32m    895\u001B[0m     \u001B[38;5;28mself\u001B[39m\u001B[38;5;241m.\u001B[39mstate\u001B[38;5;241m.\u001B[39mfn, ckpt_path, model_provided\u001B[38;5;241m=\u001B[39mmodel_provided, model_connected\u001B[38;5;241m=\u001B[39m\u001B[38;5;28mself\u001B[39m\u001B[38;5;241m.\u001B[39mlightning_module \u001B[38;5;129;01mis\u001B[39;00m \u001B[38;5;129;01mnot\u001B[39;00m \u001B[38;5;28;01mNone\u001B[39;00m\n\u001B[0;32m    896\u001B[0m )\n\u001B[1;32m--> 897\u001B[0m results \u001B[38;5;241m=\u001B[39m \u001B[38;5;28mself\u001B[39m\u001B[38;5;241m.\u001B[39m_run(model, ckpt_path\u001B[38;5;241m=\u001B[39mckpt_path)\n\u001B[0;32m    899\u001B[0m \u001B[38;5;28;01massert\u001B[39;00m \u001B[38;5;28mself\u001B[39m\u001B[38;5;241m.\u001B[39mstate\u001B[38;5;241m.\u001B[39mstopped\n",
      "File \u001B[1;32m~\\anaconda3\\envs\\thesis\\Lib\\site-packages\\pytorch_lightning\\trainer\\trainer.py:981\u001B[0m, in \u001B[0;36mTrainer._run\u001B[1;34m(self, model, ckpt_path)\u001B[0m\n\u001B[0;32m    978\u001B[0m \u001B[38;5;66;03m# ----------------------------\u001B[39;00m\n\u001B[0;32m    979\u001B[0m \u001B[38;5;66;03m# RUN THE TRAINER\u001B[39;00m\n\u001B[0;32m    980\u001B[0m \u001B[38;5;66;03m# ----------------------------\u001B[39;00m\n\u001B[1;32m--> 981\u001B[0m results \u001B[38;5;241m=\u001B[39m \u001B[38;5;28mself\u001B[39m\u001B[38;5;241m.\u001B[39m_run_stage()\n\u001B[0;32m    983\u001B[0m \u001B[38;5;66;03m# ----------------------------\u001B[39;00m\n\u001B[0;32m    984\u001B[0m \u001B[38;5;66;03m# POST-Training CLEAN UP\u001B[39;00m\n\u001B[0;32m    985\u001B[0m \u001B[38;5;66;03m# ----------------------------\u001B[39;00m\n",
      "File \u001B[1;32m~\\anaconda3\\envs\\thesis\\Lib\\site-packages\\pytorch_lightning\\trainer\\trainer.py:1020\u001B[0m, in \u001B[0;36mTrainer._run_stage\u001B[1;34m(self)\u001B[0m\n\u001B[0;32m   1019\u001B[0m \u001B[38;5;28;01mif\u001B[39;00m \u001B[38;5;28mself\u001B[39m\u001B[38;5;241m.\u001B[39mpredicting:\n\u001B[1;32m-> 1020\u001B[0m     \u001B[38;5;28;01mreturn\u001B[39;00m \u001B[38;5;28mself\u001B[39m\u001B[38;5;241m.\u001B[39mpredict_loop\u001B[38;5;241m.\u001B[39mrun()\n\u001B[0;32m   1021\u001B[0m \u001B[38;5;28;01mif\u001B[39;00m \u001B[38;5;28mself\u001B[39m\u001B[38;5;241m.\u001B[39mtraining:\n",
      "File \u001B[1;32m~\\anaconda3\\envs\\thesis\\Lib\\site-packages\\pytorch_lightning\\loops\\utilities.py:178\u001B[0m, in \u001B[0;36m_no_grad_context.<locals>._decorator\u001B[1;34m(self, *args, **kwargs)\u001B[0m\n\u001B[0;32m    177\u001B[0m \u001B[38;5;28;01mwith\u001B[39;00m context_manager():\n\u001B[1;32m--> 178\u001B[0m     \u001B[38;5;28;01mreturn\u001B[39;00m loop_run(\u001B[38;5;28mself\u001B[39m, \u001B[38;5;241m*\u001B[39margs, \u001B[38;5;241m*\u001B[39m\u001B[38;5;241m*\u001B[39mkwargs)\n",
      "File \u001B[1;32m~\\anaconda3\\envs\\thesis\\Lib\\site-packages\\pytorch_lightning\\loops\\prediction_loop.py:124\u001B[0m, in \u001B[0;36m_PredictionLoop.run\u001B[1;34m(self)\u001B[0m\n\u001B[0;32m    123\u001B[0m     \u001B[38;5;66;03m# run step hooks\u001B[39;00m\n\u001B[1;32m--> 124\u001B[0m     \u001B[38;5;28mself\u001B[39m\u001B[38;5;241m.\u001B[39m_predict_step(batch, batch_idx, dataloader_idx, dataloader_iter)\n\u001B[0;32m    125\u001B[0m \u001B[38;5;28;01mexcept\u001B[39;00m \u001B[38;5;167;01mStopIteration\u001B[39;00m:\n\u001B[0;32m    126\u001B[0m     \u001B[38;5;66;03m# this needs to wrap the `*_step` call too (not just `next`) for `dataloader_iter` support\u001B[39;00m\n",
      "File \u001B[1;32m~\\anaconda3\\envs\\thesis\\Lib\\site-packages\\pytorch_lightning\\loops\\prediction_loop.py:253\u001B[0m, in \u001B[0;36m_PredictionLoop._predict_step\u001B[1;34m(self, batch, batch_idx, dataloader_idx, dataloader_iter)\u001B[0m\n\u001B[0;32m    248\u001B[0m step_args \u001B[38;5;241m=\u001B[39m (\n\u001B[0;32m    249\u001B[0m     \u001B[38;5;28mself\u001B[39m\u001B[38;5;241m.\u001B[39m_build_step_args_from_hook_kwargs(hook_kwargs, \u001B[38;5;124m\"\u001B[39m\u001B[38;5;124mpredict_step\u001B[39m\u001B[38;5;124m\"\u001B[39m)\n\u001B[0;32m    250\u001B[0m     \u001B[38;5;28;01mif\u001B[39;00m \u001B[38;5;129;01mnot\u001B[39;00m using_dataloader_iter\n\u001B[0;32m    251\u001B[0m     \u001B[38;5;28;01melse\u001B[39;00m (dataloader_iter,)\n\u001B[0;32m    252\u001B[0m )\n\u001B[1;32m--> 253\u001B[0m predictions \u001B[38;5;241m=\u001B[39m call\u001B[38;5;241m.\u001B[39m_call_strategy_hook(trainer, \u001B[38;5;124m\"\u001B[39m\u001B[38;5;124mpredict_step\u001B[39m\u001B[38;5;124m\"\u001B[39m, \u001B[38;5;241m*\u001B[39mstep_args)\n\u001B[0;32m    254\u001B[0m \u001B[38;5;28;01mif\u001B[39;00m predictions \u001B[38;5;129;01mis\u001B[39;00m \u001B[38;5;28;01mNone\u001B[39;00m:\n",
      "File \u001B[1;32m~\\anaconda3\\envs\\thesis\\Lib\\site-packages\\pytorch_lightning\\trainer\\call.py:319\u001B[0m, in \u001B[0;36m_call_strategy_hook\u001B[1;34m(trainer, hook_name, *args, **kwargs)\u001B[0m\n\u001B[0;32m    318\u001B[0m \u001B[38;5;28;01mwith\u001B[39;00m trainer\u001B[38;5;241m.\u001B[39mprofiler\u001B[38;5;241m.\u001B[39mprofile(\u001B[38;5;124mf\u001B[39m\u001B[38;5;124m\"\u001B[39m\u001B[38;5;124m[Strategy]\u001B[39m\u001B[38;5;132;01m{\u001B[39;00mtrainer\u001B[38;5;241m.\u001B[39mstrategy\u001B[38;5;241m.\u001B[39m\u001B[38;5;18m__class__\u001B[39m\u001B[38;5;241m.\u001B[39m\u001B[38;5;18m__name__\u001B[39m\u001B[38;5;132;01m}\u001B[39;00m\u001B[38;5;124m.\u001B[39m\u001B[38;5;132;01m{\u001B[39;00mhook_name\u001B[38;5;132;01m}\u001B[39;00m\u001B[38;5;124m\"\u001B[39m):\n\u001B[1;32m--> 319\u001B[0m     output \u001B[38;5;241m=\u001B[39m fn(\u001B[38;5;241m*\u001B[39margs, \u001B[38;5;241m*\u001B[39m\u001B[38;5;241m*\u001B[39mkwargs)\n\u001B[0;32m    321\u001B[0m \u001B[38;5;66;03m# restore current_fx when nested context\u001B[39;00m\n",
      "File \u001B[1;32m~\\anaconda3\\envs\\thesis\\Lib\\site-packages\\pytorch_lightning\\strategies\\strategy.py:437\u001B[0m, in \u001B[0;36mStrategy.predict_step\u001B[1;34m(self, *args, **kwargs)\u001B[0m\n\u001B[0;32m    436\u001B[0m     \u001B[38;5;28;01mreturn\u001B[39;00m \u001B[38;5;28mself\u001B[39m\u001B[38;5;241m.\u001B[39m_forward_redirection(\u001B[38;5;28mself\u001B[39m\u001B[38;5;241m.\u001B[39mmodel, \u001B[38;5;28mself\u001B[39m\u001B[38;5;241m.\u001B[39mlightning_module, \u001B[38;5;124m\"\u001B[39m\u001B[38;5;124mpredict_step\u001B[39m\u001B[38;5;124m\"\u001B[39m, \u001B[38;5;241m*\u001B[39margs, \u001B[38;5;241m*\u001B[39m\u001B[38;5;241m*\u001B[39mkwargs)\n\u001B[1;32m--> 437\u001B[0m \u001B[38;5;28;01mreturn\u001B[39;00m \u001B[38;5;28mself\u001B[39m\u001B[38;5;241m.\u001B[39mlightning_module\u001B[38;5;241m.\u001B[39mpredict_step(\u001B[38;5;241m*\u001B[39margs, \u001B[38;5;241m*\u001B[39m\u001B[38;5;241m*\u001B[39mkwargs)\n",
      "File \u001B[1;32m~\\Documents\\second_degree\\thesis\\distributedKNET\\utils\\DistributedKalmanNet.py:326\u001B[0m, in \u001B[0;36mGraphKalmanProcess.predict_step\u001B[1;34m(self, batch, batch_idx, dataloader_idx)\u001B[0m\n\u001B[0;32m    325\u001B[0m \u001B[38;5;28;01mdef\u001B[39;00m \u001B[38;5;21mpredict_step\u001B[39m(\u001B[38;5;28mself\u001B[39m, batch, batch_idx, dataloader_idx\u001B[38;5;241m=\u001B[39m\u001B[38;5;241m0\u001B[39m):\n\u001B[1;32m--> 326\u001B[0m     \u001B[38;5;28;01mreturn\u001B[39;00m \u001B[38;5;28mself\u001B[39m(batch[\u001B[38;5;241m0\u001B[39m])\n",
      "File \u001B[1;32m_pydevd_bundle\\\\pydevd_cython_win32_312_64.pyx:1187\u001B[0m, in \u001B[0;36m_pydevd_bundle.pydevd_cython_win32_312_64.SafeCallWrapper.__call__\u001B[1;34m()\u001B[0m\n",
      "File \u001B[1;32m_pydevd_bundle\\\\pydevd_cython_win32_312_64.pyx:627\u001B[0m, in \u001B[0;36m_pydevd_bundle.pydevd_cython_win32_312_64.PyDBFrame.trace_dispatch\u001B[1;34m()\u001B[0m\n",
      "File \u001B[1;32m_pydevd_bundle\\\\pydevd_cython_win32_312_64.pyx:937\u001B[0m, in \u001B[0;36m_pydevd_bundle.pydevd_cython_win32_312_64.PyDBFrame.trace_dispatch\u001B[1;34m()\u001B[0m\n",
      "File \u001B[1;32m_pydevd_bundle\\\\pydevd_cython_win32_312_64.pyx:928\u001B[0m, in \u001B[0;36m_pydevd_bundle.pydevd_cython_win32_312_64.PyDBFrame.trace_dispatch\u001B[1;34m()\u001B[0m\n",
      "File \u001B[1;32m_pydevd_bundle\\\\pydevd_cython_win32_312_64.pyx:585\u001B[0m, in \u001B[0;36m_pydevd_bundle.pydevd_cython_win32_312_64.PyDBFrame.do_wait_suspend\u001B[1;34m()\u001B[0m\n",
      "File \u001B[1;32mC:\\Program Files\\JetBrains\\DataSpell 2024.1.3\\plugins\\python-ce\\helpers\\pydev\\pydevd.py:1196\u001B[0m, in \u001B[0;36mPyDB.do_wait_suspend\u001B[1;34m(self, thread, frame, event, arg, send_suspend_message, is_unhandled_exception)\u001B[0m\n\u001B[0;32m   1195\u001B[0m \u001B[38;5;28;01mwith\u001B[39;00m \u001B[38;5;28mself\u001B[39m\u001B[38;5;241m.\u001B[39m_threads_suspended_single_notification\u001B[38;5;241m.\u001B[39mnotify_thread_suspended(thread_id, stop_reason):\n\u001B[1;32m-> 1196\u001B[0m     \u001B[38;5;28mself\u001B[39m\u001B[38;5;241m.\u001B[39m_do_wait_suspend(thread, frame, event, arg, suspend_type, from_this_thread)\n",
      "File \u001B[1;32mC:\\Program Files\\JetBrains\\DataSpell 2024.1.3\\plugins\\python-ce\\helpers\\pydev\\pydevd.py:1211\u001B[0m, in \u001B[0;36mPyDB._do_wait_suspend\u001B[1;34m(self, thread, frame, event, arg, suspend_type, from_this_thread)\u001B[0m\n\u001B[0;32m   1210\u001B[0m         \u001B[38;5;28mself\u001B[39m\u001B[38;5;241m.\u001B[39mprocess_internal_commands()\n\u001B[1;32m-> 1211\u001B[0m         time\u001B[38;5;241m.\u001B[39msleep(\u001B[38;5;241m0.01\u001B[39m)\n\u001B[0;32m   1213\u001B[0m \u001B[38;5;28mself\u001B[39m\u001B[38;5;241m.\u001B[39mcancel_async_evaluation(get_current_thread_id(thread), \u001B[38;5;28mstr\u001B[39m(\u001B[38;5;28mid\u001B[39m(frame)))\n",
      "\u001B[1;31mKeyboardInterrupt\u001B[0m: ",
      "\nDuring handling of the above exception, another exception occurred:\n",
      "\u001B[1;31mNameError\u001B[0m                                 Traceback (most recent call last)",
      "Cell \u001B[1;32mIn[49], line 1\u001B[0m\n\u001B[1;32m----> 1\u001B[0m trainer\u001B[38;5;241m.\u001B[39mpredict(kalman_process, val_loader)\n",
      "File \u001B[1;32m~\\anaconda3\\envs\\thesis\\Lib\\site-packages\\pytorch_lightning\\trainer\\trainer.py:858\u001B[0m, in \u001B[0;36mTrainer.predict\u001B[1;34m(self, model, dataloaders, datamodule, return_predictions, ckpt_path)\u001B[0m\n\u001B[0;32m    856\u001B[0m \u001B[38;5;28mself\u001B[39m\u001B[38;5;241m.\u001B[39mstate\u001B[38;5;241m.\u001B[39mstatus \u001B[38;5;241m=\u001B[39m TrainerStatus\u001B[38;5;241m.\u001B[39mRUNNING\n\u001B[0;32m    857\u001B[0m \u001B[38;5;28mself\u001B[39m\u001B[38;5;241m.\u001B[39mpredicting \u001B[38;5;241m=\u001B[39m \u001B[38;5;28;01mTrue\u001B[39;00m\n\u001B[1;32m--> 858\u001B[0m \u001B[38;5;28;01mreturn\u001B[39;00m call\u001B[38;5;241m.\u001B[39m_call_and_handle_interrupt(\n\u001B[0;32m    859\u001B[0m     \u001B[38;5;28mself\u001B[39m, \u001B[38;5;28mself\u001B[39m\u001B[38;5;241m.\u001B[39m_predict_impl, model, dataloaders, datamodule, return_predictions, ckpt_path\n\u001B[0;32m    860\u001B[0m )\n",
      "File \u001B[1;32m~\\anaconda3\\envs\\thesis\\Lib\\site-packages\\pytorch_lightning\\trainer\\call.py:64\u001B[0m, in \u001B[0;36m_call_and_handle_interrupt\u001B[1;34m(trainer, trainer_fn, *args, **kwargs)\u001B[0m\n\u001B[0;32m     62\u001B[0m     \u001B[38;5;28;01mif\u001B[39;00m \u001B[38;5;28misinstance\u001B[39m(launcher, _SubprocessScriptLauncher):\n\u001B[0;32m     63\u001B[0m         launcher\u001B[38;5;241m.\u001B[39mkill(_get_sigkill_signal())\n\u001B[1;32m---> 64\u001B[0m     exit(\u001B[38;5;241m1\u001B[39m)\n\u001B[0;32m     66\u001B[0m \u001B[38;5;28;01mexcept\u001B[39;00m \u001B[38;5;167;01mBaseException\u001B[39;00m \u001B[38;5;28;01mas\u001B[39;00m exception:\n\u001B[0;32m     67\u001B[0m     _interrupt(trainer, exception)\n",
      "\u001B[1;31mNameError\u001B[0m: name 'exit' is not defined"
     ]
    }
   ],
   "execution_count": 49
  },
  {
   "metadata": {
    "ExecuteTime": {
     "end_time": "2025-05-04T11:53:19.661384Z",
     "start_time": "2025-05-04T11:53:19.417633Z"
    }
   },
   "cell_type": "code",
   "source": "trainer.predict(kalman_process, val_loader)",
   "id": "87545da788da75ea",
   "outputs": [
    {
     "data": {
      "text/plain": [
       "Predicting: |          | 0/? [00:00<?, ?it/s]"
      ],
      "application/vnd.jupyter.widget-view+json": {
       "version_major": 2,
       "version_minor": 0,
       "model_id": "af8780c25e53480480168ee35255d900"
      }
     },
     "metadata": {},
     "output_type": "display_data"
    },
    {
     "ename": "RuntimeError",
     "evalue": "shape '[5, 50, 10, 1]' is invalid for input of size 500",
     "output_type": "error",
     "traceback": [
      "\u001B[1;31m---------------------------------------------------------------------------\u001B[0m",
      "\u001B[1;31mRuntimeError\u001B[0m                              Traceback (most recent call last)",
      "Cell \u001B[1;32mIn[41], line 1\u001B[0m\n\u001B[1;32m----> 1\u001B[0m trainer\u001B[38;5;241m.\u001B[39mpredict(kalman_process, val_loader)\n",
      "File \u001B[1;32m~\\anaconda3\\envs\\thesis\\Lib\\site-packages\\pytorch_lightning\\trainer\\trainer.py:858\u001B[0m, in \u001B[0;36mTrainer.predict\u001B[1;34m(self, model, dataloaders, datamodule, return_predictions, ckpt_path)\u001B[0m\n\u001B[0;32m    856\u001B[0m \u001B[38;5;28mself\u001B[39m\u001B[38;5;241m.\u001B[39mstate\u001B[38;5;241m.\u001B[39mstatus \u001B[38;5;241m=\u001B[39m TrainerStatus\u001B[38;5;241m.\u001B[39mRUNNING\n\u001B[0;32m    857\u001B[0m \u001B[38;5;28mself\u001B[39m\u001B[38;5;241m.\u001B[39mpredicting \u001B[38;5;241m=\u001B[39m \u001B[38;5;28;01mTrue\u001B[39;00m\n\u001B[1;32m--> 858\u001B[0m \u001B[38;5;28;01mreturn\u001B[39;00m call\u001B[38;5;241m.\u001B[39m_call_and_handle_interrupt(\n\u001B[0;32m    859\u001B[0m     \u001B[38;5;28mself\u001B[39m, \u001B[38;5;28mself\u001B[39m\u001B[38;5;241m.\u001B[39m_predict_impl, model, dataloaders, datamodule, return_predictions, ckpt_path\n\u001B[0;32m    860\u001B[0m )\n",
      "File \u001B[1;32m~\\anaconda3\\envs\\thesis\\Lib\\site-packages\\pytorch_lightning\\trainer\\call.py:47\u001B[0m, in \u001B[0;36m_call_and_handle_interrupt\u001B[1;34m(trainer, trainer_fn, *args, **kwargs)\u001B[0m\n\u001B[0;32m     45\u001B[0m     \u001B[38;5;28;01mif\u001B[39;00m trainer\u001B[38;5;241m.\u001B[39mstrategy\u001B[38;5;241m.\u001B[39mlauncher \u001B[38;5;129;01mis\u001B[39;00m \u001B[38;5;129;01mnot\u001B[39;00m \u001B[38;5;28;01mNone\u001B[39;00m:\n\u001B[0;32m     46\u001B[0m         \u001B[38;5;28;01mreturn\u001B[39;00m trainer\u001B[38;5;241m.\u001B[39mstrategy\u001B[38;5;241m.\u001B[39mlauncher\u001B[38;5;241m.\u001B[39mlaunch(trainer_fn, \u001B[38;5;241m*\u001B[39margs, trainer\u001B[38;5;241m=\u001B[39mtrainer, \u001B[38;5;241m*\u001B[39m\u001B[38;5;241m*\u001B[39mkwargs)\n\u001B[1;32m---> 47\u001B[0m     \u001B[38;5;28;01mreturn\u001B[39;00m trainer_fn(\u001B[38;5;241m*\u001B[39margs, \u001B[38;5;241m*\u001B[39m\u001B[38;5;241m*\u001B[39mkwargs)\n\u001B[0;32m     49\u001B[0m \u001B[38;5;28;01mexcept\u001B[39;00m _TunerExitException:\n\u001B[0;32m     50\u001B[0m     _call_teardown_hook(trainer)\n",
      "File \u001B[1;32m~\\anaconda3\\envs\\thesis\\Lib\\site-packages\\pytorch_lightning\\trainer\\trainer.py:897\u001B[0m, in \u001B[0;36mTrainer._predict_impl\u001B[1;34m(self, model, dataloaders, datamodule, return_predictions, ckpt_path)\u001B[0m\n\u001B[0;32m    893\u001B[0m \u001B[38;5;28;01massert\u001B[39;00m \u001B[38;5;28mself\u001B[39m\u001B[38;5;241m.\u001B[39mstate\u001B[38;5;241m.\u001B[39mfn \u001B[38;5;129;01mis\u001B[39;00m \u001B[38;5;129;01mnot\u001B[39;00m \u001B[38;5;28;01mNone\u001B[39;00m\n\u001B[0;32m    894\u001B[0m ckpt_path \u001B[38;5;241m=\u001B[39m \u001B[38;5;28mself\u001B[39m\u001B[38;5;241m.\u001B[39m_checkpoint_connector\u001B[38;5;241m.\u001B[39m_select_ckpt_path(\n\u001B[0;32m    895\u001B[0m     \u001B[38;5;28mself\u001B[39m\u001B[38;5;241m.\u001B[39mstate\u001B[38;5;241m.\u001B[39mfn, ckpt_path, model_provided\u001B[38;5;241m=\u001B[39mmodel_provided, model_connected\u001B[38;5;241m=\u001B[39m\u001B[38;5;28mself\u001B[39m\u001B[38;5;241m.\u001B[39mlightning_module \u001B[38;5;129;01mis\u001B[39;00m \u001B[38;5;129;01mnot\u001B[39;00m \u001B[38;5;28;01mNone\u001B[39;00m\n\u001B[0;32m    896\u001B[0m )\n\u001B[1;32m--> 897\u001B[0m results \u001B[38;5;241m=\u001B[39m \u001B[38;5;28mself\u001B[39m\u001B[38;5;241m.\u001B[39m_run(model, ckpt_path\u001B[38;5;241m=\u001B[39mckpt_path)\n\u001B[0;32m    899\u001B[0m \u001B[38;5;28;01massert\u001B[39;00m \u001B[38;5;28mself\u001B[39m\u001B[38;5;241m.\u001B[39mstate\u001B[38;5;241m.\u001B[39mstopped\n\u001B[0;32m    900\u001B[0m \u001B[38;5;28mself\u001B[39m\u001B[38;5;241m.\u001B[39mpredicting \u001B[38;5;241m=\u001B[39m \u001B[38;5;28;01mFalse\u001B[39;00m\n",
      "File \u001B[1;32m~\\anaconda3\\envs\\thesis\\Lib\\site-packages\\pytorch_lightning\\trainer\\trainer.py:981\u001B[0m, in \u001B[0;36mTrainer._run\u001B[1;34m(self, model, ckpt_path)\u001B[0m\n\u001B[0;32m    976\u001B[0m \u001B[38;5;28mself\u001B[39m\u001B[38;5;241m.\u001B[39m_signal_connector\u001B[38;5;241m.\u001B[39mregister_signal_handlers()\n\u001B[0;32m    978\u001B[0m \u001B[38;5;66;03m# ----------------------------\u001B[39;00m\n\u001B[0;32m    979\u001B[0m \u001B[38;5;66;03m# RUN THE TRAINER\u001B[39;00m\n\u001B[0;32m    980\u001B[0m \u001B[38;5;66;03m# ----------------------------\u001B[39;00m\n\u001B[1;32m--> 981\u001B[0m results \u001B[38;5;241m=\u001B[39m \u001B[38;5;28mself\u001B[39m\u001B[38;5;241m.\u001B[39m_run_stage()\n\u001B[0;32m    983\u001B[0m \u001B[38;5;66;03m# ----------------------------\u001B[39;00m\n\u001B[0;32m    984\u001B[0m \u001B[38;5;66;03m# POST-Training CLEAN UP\u001B[39;00m\n\u001B[0;32m    985\u001B[0m \u001B[38;5;66;03m# ----------------------------\u001B[39;00m\n\u001B[0;32m    986\u001B[0m log\u001B[38;5;241m.\u001B[39mdebug(\u001B[38;5;124mf\u001B[39m\u001B[38;5;124m\"\u001B[39m\u001B[38;5;132;01m{\u001B[39;00m\u001B[38;5;28mself\u001B[39m\u001B[38;5;241m.\u001B[39m\u001B[38;5;18m__class__\u001B[39m\u001B[38;5;241m.\u001B[39m\u001B[38;5;18m__name__\u001B[39m\u001B[38;5;132;01m}\u001B[39;00m\u001B[38;5;124m: trainer tearing down\u001B[39m\u001B[38;5;124m\"\u001B[39m)\n",
      "File \u001B[1;32m~\\anaconda3\\envs\\thesis\\Lib\\site-packages\\pytorch_lightning\\trainer\\trainer.py:1020\u001B[0m, in \u001B[0;36mTrainer._run_stage\u001B[1;34m(self)\u001B[0m\n\u001B[0;32m   1018\u001B[0m     \u001B[38;5;28;01mreturn\u001B[39;00m \u001B[38;5;28mself\u001B[39m\u001B[38;5;241m.\u001B[39m_evaluation_loop\u001B[38;5;241m.\u001B[39mrun()\n\u001B[0;32m   1019\u001B[0m \u001B[38;5;28;01mif\u001B[39;00m \u001B[38;5;28mself\u001B[39m\u001B[38;5;241m.\u001B[39mpredicting:\n\u001B[1;32m-> 1020\u001B[0m     \u001B[38;5;28;01mreturn\u001B[39;00m \u001B[38;5;28mself\u001B[39m\u001B[38;5;241m.\u001B[39mpredict_loop\u001B[38;5;241m.\u001B[39mrun()\n\u001B[0;32m   1021\u001B[0m \u001B[38;5;28;01mif\u001B[39;00m \u001B[38;5;28mself\u001B[39m\u001B[38;5;241m.\u001B[39mtraining:\n\u001B[0;32m   1022\u001B[0m     \u001B[38;5;28;01mwith\u001B[39;00m isolate_rng():\n",
      "File \u001B[1;32m~\\anaconda3\\envs\\thesis\\Lib\\site-packages\\pytorch_lightning\\loops\\utilities.py:178\u001B[0m, in \u001B[0;36m_no_grad_context.<locals>._decorator\u001B[1;34m(self, *args, **kwargs)\u001B[0m\n\u001B[0;32m    176\u001B[0m     context_manager \u001B[38;5;241m=\u001B[39m torch\u001B[38;5;241m.\u001B[39mno_grad\n\u001B[0;32m    177\u001B[0m \u001B[38;5;28;01mwith\u001B[39;00m context_manager():\n\u001B[1;32m--> 178\u001B[0m     \u001B[38;5;28;01mreturn\u001B[39;00m loop_run(\u001B[38;5;28mself\u001B[39m, \u001B[38;5;241m*\u001B[39margs, \u001B[38;5;241m*\u001B[39m\u001B[38;5;241m*\u001B[39mkwargs)\n",
      "File \u001B[1;32m~\\anaconda3\\envs\\thesis\\Lib\\site-packages\\pytorch_lightning\\loops\\prediction_loop.py:124\u001B[0m, in \u001B[0;36m_PredictionLoop.run\u001B[1;34m(self)\u001B[0m\n\u001B[0;32m    122\u001B[0m     \u001B[38;5;28mself\u001B[39m\u001B[38;5;241m.\u001B[39mbatch_progress\u001B[38;5;241m.\u001B[39mis_last_batch \u001B[38;5;241m=\u001B[39m data_fetcher\u001B[38;5;241m.\u001B[39mdone\n\u001B[0;32m    123\u001B[0m     \u001B[38;5;66;03m# run step hooks\u001B[39;00m\n\u001B[1;32m--> 124\u001B[0m     \u001B[38;5;28mself\u001B[39m\u001B[38;5;241m.\u001B[39m_predict_step(batch, batch_idx, dataloader_idx, dataloader_iter)\n\u001B[0;32m    125\u001B[0m \u001B[38;5;28;01mexcept\u001B[39;00m \u001B[38;5;167;01mStopIteration\u001B[39;00m:\n\u001B[0;32m    126\u001B[0m     \u001B[38;5;66;03m# this needs to wrap the `*_step` call too (not just `next`) for `dataloader_iter` support\u001B[39;00m\n\u001B[0;32m    127\u001B[0m     \u001B[38;5;28;01mbreak\u001B[39;00m\n",
      "File \u001B[1;32m~\\anaconda3\\envs\\thesis\\Lib\\site-packages\\pytorch_lightning\\loops\\prediction_loop.py:253\u001B[0m, in \u001B[0;36m_PredictionLoop._predict_step\u001B[1;34m(self, batch, batch_idx, dataloader_idx, dataloader_iter)\u001B[0m\n\u001B[0;32m    247\u001B[0m \u001B[38;5;66;03m# configure step_kwargs\u001B[39;00m\n\u001B[0;32m    248\u001B[0m step_args \u001B[38;5;241m=\u001B[39m (\n\u001B[0;32m    249\u001B[0m     \u001B[38;5;28mself\u001B[39m\u001B[38;5;241m.\u001B[39m_build_step_args_from_hook_kwargs(hook_kwargs, \u001B[38;5;124m\"\u001B[39m\u001B[38;5;124mpredict_step\u001B[39m\u001B[38;5;124m\"\u001B[39m)\n\u001B[0;32m    250\u001B[0m     \u001B[38;5;28;01mif\u001B[39;00m \u001B[38;5;129;01mnot\u001B[39;00m using_dataloader_iter\n\u001B[0;32m    251\u001B[0m     \u001B[38;5;28;01melse\u001B[39;00m (dataloader_iter,)\n\u001B[0;32m    252\u001B[0m )\n\u001B[1;32m--> 253\u001B[0m predictions \u001B[38;5;241m=\u001B[39m call\u001B[38;5;241m.\u001B[39m_call_strategy_hook(trainer, \u001B[38;5;124m\"\u001B[39m\u001B[38;5;124mpredict_step\u001B[39m\u001B[38;5;124m\"\u001B[39m, \u001B[38;5;241m*\u001B[39mstep_args)\n\u001B[0;32m    254\u001B[0m \u001B[38;5;28;01mif\u001B[39;00m predictions \u001B[38;5;129;01mis\u001B[39;00m \u001B[38;5;28;01mNone\u001B[39;00m:\n\u001B[0;32m    255\u001B[0m     \u001B[38;5;28mself\u001B[39m\u001B[38;5;241m.\u001B[39m_warning_cache\u001B[38;5;241m.\u001B[39mwarn(\u001B[38;5;124m\"\u001B[39m\u001B[38;5;124mpredict returned None if it was on purpose, ignore this warning...\u001B[39m\u001B[38;5;124m\"\u001B[39m)\n",
      "File \u001B[1;32m~\\anaconda3\\envs\\thesis\\Lib\\site-packages\\pytorch_lightning\\trainer\\call.py:319\u001B[0m, in \u001B[0;36m_call_strategy_hook\u001B[1;34m(trainer, hook_name, *args, **kwargs)\u001B[0m\n\u001B[0;32m    316\u001B[0m     \u001B[38;5;28;01mreturn\u001B[39;00m \u001B[38;5;28;01mNone\u001B[39;00m\n\u001B[0;32m    318\u001B[0m \u001B[38;5;28;01mwith\u001B[39;00m trainer\u001B[38;5;241m.\u001B[39mprofiler\u001B[38;5;241m.\u001B[39mprofile(\u001B[38;5;124mf\u001B[39m\u001B[38;5;124m\"\u001B[39m\u001B[38;5;124m[Strategy]\u001B[39m\u001B[38;5;132;01m{\u001B[39;00mtrainer\u001B[38;5;241m.\u001B[39mstrategy\u001B[38;5;241m.\u001B[39m\u001B[38;5;18m__class__\u001B[39m\u001B[38;5;241m.\u001B[39m\u001B[38;5;18m__name__\u001B[39m\u001B[38;5;132;01m}\u001B[39;00m\u001B[38;5;124m.\u001B[39m\u001B[38;5;132;01m{\u001B[39;00mhook_name\u001B[38;5;132;01m}\u001B[39;00m\u001B[38;5;124m\"\u001B[39m):\n\u001B[1;32m--> 319\u001B[0m     output \u001B[38;5;241m=\u001B[39m fn(\u001B[38;5;241m*\u001B[39margs, \u001B[38;5;241m*\u001B[39m\u001B[38;5;241m*\u001B[39mkwargs)\n\u001B[0;32m    321\u001B[0m \u001B[38;5;66;03m# restore current_fx when nested context\u001B[39;00m\n\u001B[0;32m    322\u001B[0m pl_module\u001B[38;5;241m.\u001B[39m_current_fx_name \u001B[38;5;241m=\u001B[39m prev_fx_name\n",
      "File \u001B[1;32m~\\anaconda3\\envs\\thesis\\Lib\\site-packages\\pytorch_lightning\\strategies\\strategy.py:437\u001B[0m, in \u001B[0;36mStrategy.predict_step\u001B[1;34m(self, *args, **kwargs)\u001B[0m\n\u001B[0;32m    435\u001B[0m \u001B[38;5;28;01mif\u001B[39;00m \u001B[38;5;28mself\u001B[39m\u001B[38;5;241m.\u001B[39mmodel \u001B[38;5;241m!=\u001B[39m \u001B[38;5;28mself\u001B[39m\u001B[38;5;241m.\u001B[39mlightning_module:\n\u001B[0;32m    436\u001B[0m     \u001B[38;5;28;01mreturn\u001B[39;00m \u001B[38;5;28mself\u001B[39m\u001B[38;5;241m.\u001B[39m_forward_redirection(\u001B[38;5;28mself\u001B[39m\u001B[38;5;241m.\u001B[39mmodel, \u001B[38;5;28mself\u001B[39m\u001B[38;5;241m.\u001B[39mlightning_module, \u001B[38;5;124m\"\u001B[39m\u001B[38;5;124mpredict_step\u001B[39m\u001B[38;5;124m\"\u001B[39m, \u001B[38;5;241m*\u001B[39margs, \u001B[38;5;241m*\u001B[39m\u001B[38;5;241m*\u001B[39mkwargs)\n\u001B[1;32m--> 437\u001B[0m \u001B[38;5;28;01mreturn\u001B[39;00m \u001B[38;5;28mself\u001B[39m\u001B[38;5;241m.\u001B[39mlightning_module\u001B[38;5;241m.\u001B[39mpredict_step(\u001B[38;5;241m*\u001B[39margs, \u001B[38;5;241m*\u001B[39m\u001B[38;5;241m*\u001B[39mkwargs)\n",
      "File \u001B[1;32m~\\Documents\\second_degree\\thesis\\distributedKNET\\utils\\DistributedKalmanNet.py:326\u001B[0m, in \u001B[0;36mGraphKalmanProcess.predict_step\u001B[1;34m(self, batch, batch_idx, dataloader_idx)\u001B[0m\n\u001B[0;32m    325\u001B[0m \u001B[38;5;28;01mdef\u001B[39;00m \u001B[38;5;21mpredict_step\u001B[39m(\u001B[38;5;28mself\u001B[39m, batch, batch_idx, dataloader_idx\u001B[38;5;241m=\u001B[39m\u001B[38;5;241m0\u001B[39m):\n\u001B[1;32m--> 326\u001B[0m     \u001B[38;5;28;01mreturn\u001B[39;00m \u001B[38;5;28mself\u001B[39m(batch[\u001B[38;5;241m0\u001B[39m])\n",
      "File \u001B[1;32m~\\anaconda3\\envs\\thesis\\Lib\\site-packages\\torch\\nn\\modules\\module.py:1532\u001B[0m, in \u001B[0;36mModule._wrapped_call_impl\u001B[1;34m(self, *args, **kwargs)\u001B[0m\n\u001B[0;32m   1530\u001B[0m     \u001B[38;5;28;01mreturn\u001B[39;00m \u001B[38;5;28mself\u001B[39m\u001B[38;5;241m.\u001B[39m_compiled_call_impl(\u001B[38;5;241m*\u001B[39margs, \u001B[38;5;241m*\u001B[39m\u001B[38;5;241m*\u001B[39mkwargs)  \u001B[38;5;66;03m# type: ignore[misc]\u001B[39;00m\n\u001B[0;32m   1531\u001B[0m \u001B[38;5;28;01melse\u001B[39;00m:\n\u001B[1;32m-> 1532\u001B[0m     \u001B[38;5;28;01mreturn\u001B[39;00m \u001B[38;5;28mself\u001B[39m\u001B[38;5;241m.\u001B[39m_call_impl(\u001B[38;5;241m*\u001B[39margs, \u001B[38;5;241m*\u001B[39m\u001B[38;5;241m*\u001B[39mkwargs)\n",
      "File \u001B[1;32m~\\anaconda3\\envs\\thesis\\Lib\\site-packages\\torch\\nn\\modules\\module.py:1541\u001B[0m, in \u001B[0;36mModule._call_impl\u001B[1;34m(self, *args, **kwargs)\u001B[0m\n\u001B[0;32m   1536\u001B[0m \u001B[38;5;66;03m# If we don't have any hooks, we want to skip the rest of the logic in\u001B[39;00m\n\u001B[0;32m   1537\u001B[0m \u001B[38;5;66;03m# this function, and just call forward.\u001B[39;00m\n\u001B[0;32m   1538\u001B[0m \u001B[38;5;28;01mif\u001B[39;00m \u001B[38;5;129;01mnot\u001B[39;00m (\u001B[38;5;28mself\u001B[39m\u001B[38;5;241m.\u001B[39m_backward_hooks \u001B[38;5;129;01mor\u001B[39;00m \u001B[38;5;28mself\u001B[39m\u001B[38;5;241m.\u001B[39m_backward_pre_hooks \u001B[38;5;129;01mor\u001B[39;00m \u001B[38;5;28mself\u001B[39m\u001B[38;5;241m.\u001B[39m_forward_hooks \u001B[38;5;129;01mor\u001B[39;00m \u001B[38;5;28mself\u001B[39m\u001B[38;5;241m.\u001B[39m_forward_pre_hooks\n\u001B[0;32m   1539\u001B[0m         \u001B[38;5;129;01mor\u001B[39;00m _global_backward_pre_hooks \u001B[38;5;129;01mor\u001B[39;00m _global_backward_hooks\n\u001B[0;32m   1540\u001B[0m         \u001B[38;5;129;01mor\u001B[39;00m _global_forward_hooks \u001B[38;5;129;01mor\u001B[39;00m _global_forward_pre_hooks):\n\u001B[1;32m-> 1541\u001B[0m     \u001B[38;5;28;01mreturn\u001B[39;00m forward_call(\u001B[38;5;241m*\u001B[39margs, \u001B[38;5;241m*\u001B[39m\u001B[38;5;241m*\u001B[39mkwargs)\n\u001B[0;32m   1543\u001B[0m \u001B[38;5;28;01mtry\u001B[39;00m:\n\u001B[0;32m   1544\u001B[0m     result \u001B[38;5;241m=\u001B[39m \u001B[38;5;28;01mNone\u001B[39;00m\n",
      "File \u001B[1;32m~\\Documents\\second_degree\\thesis\\distributedKNET\\utils\\DistributedKalmanNet.py:286\u001B[0m, in \u001B[0;36mGraphKalmanProcess.forward\u001B[1;34m(self, data, x_0)\u001B[0m\n\u001B[0;32m    283\u001B[0m measurements_shape \u001B[38;5;241m=\u001B[39m (\u001B[38;5;28mlen\u001B[39m(data), \u001B[38;5;28mself\u001B[39m\u001B[38;5;241m.\u001B[39mnode_num,) \u001B[38;5;241m+\u001B[39m data\u001B[38;5;241m.\u001B[39mx\u001B[38;5;241m.\u001B[39mshape[\u001B[38;5;241m1\u001B[39m:]  \u001B[38;5;66;03m# (BATCH, NODE_NUM, Time_steps, 1)\u001B[39;00m\n\u001B[0;32m    284\u001B[0m x_pred_t_1_t_1, x_pred_t_1_t_2, x_pred_t_2_t_2, delta_y_innov_i, edge_index, hidden_r, pred_sigma \u001B[38;5;241m=\u001B[39m \u001B[38;5;28mself\u001B[39m\u001B[38;5;241m.\u001B[39minitiate_graph_kalman_parameters(\n\u001B[0;32m    285\u001B[0m     x_0, data, measurements_shape)\n\u001B[1;32m--> 286\u001B[0m measurements \u001B[38;5;241m=\u001B[39m data\u001B[38;5;241m.\u001B[39mx\u001B[38;5;241m.\u001B[39mreshape(\u001B[38;5;241m*\u001B[39mmeasurements_shape)\n\u001B[0;32m    287\u001B[0m time_steps_number \u001B[38;5;241m=\u001B[39m measurements\u001B[38;5;241m.\u001B[39mshape[\u001B[38;5;241m-\u001B[39m\u001B[38;5;241m2\u001B[39m]\n\u001B[0;32m    288\u001B[0m x_pred_t \u001B[38;5;241m=\u001B[39m torch\u001B[38;5;241m.\u001B[39mzeros(data\u001B[38;5;241m.\u001B[39mnum_graphs, time_steps_number, \u001B[38;5;28mself\u001B[39m\u001B[38;5;241m.\u001B[39mnode_num, \u001B[38;5;28mself\u001B[39m\u001B[38;5;241m.\u001B[39msignal_dim, \u001B[38;5;241m1\u001B[39m)\n",
      "\u001B[1;31mRuntimeError\u001B[0m: shape '[5, 50, 10, 1]' is invalid for input of size 500"
     ]
    }
   ],
   "execution_count": 41
  },
  {
   "metadata": {
    "ExecuteTime": {
     "end_time": "2025-05-09T10:02:09.341278Z",
     "start_time": "2025-05-09T10:02:09.039837Z"
    }
   },
   "cell_type": "code",
   "source": "1+1",
   "id": "f4604721ef2a4b75",
   "outputs": [
    {
     "data": {
      "text/plain": [
       "2"
      ]
     },
     "execution_count": 45,
     "metadata": {},
     "output_type": "execute_result"
    }
   ],
   "execution_count": 45
  },
  {
   "metadata": {},
   "cell_type": "code",
   "outputs": [],
   "execution_count": null,
   "source": "0",
   "id": "9d46e6cb095f6f3c"
  }
 ],
 "metadata": {
  "kernelspec": {
   "display_name": "Python 3 (ipykernel)",
   "language": "python",
   "name": "python3"
  },
  "language_info": {
   "codemirror_mode": {
    "name": "ipython",
    "version": 3
   },
   "file_extension": ".py",
   "mimetype": "text/x-python",
   "name": "python",
   "nbconvert_exporter": "python",
   "pygments_lexer": "ipython3",
   "version": "3.8.8"
  }
 },
 "nbformat": 4,
 "nbformat_minor": 5
}
