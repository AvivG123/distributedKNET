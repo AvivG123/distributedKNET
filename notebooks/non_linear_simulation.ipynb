{
 "cells": [
  {
   "metadata": {
    "ExecuteTime": {
     "end_time": "2024-08-03T14:56:48.461209Z",
     "start_time": "2024-08-03T14:56:48.439269Z"
    }
   },
   "cell_type": "code",
   "source": [
    "import numpy as np\n",
    "import matplotlib.pyplot as plt\n",
    "import networkx as nx\n",
    "import torch\n",
    "from torch.autograd.functional import jacobian\n",
    "from torch.func import jacrev, jacfwd\n",
    "from tqdm import tqdm"
   ],
   "id": "initial_id",
   "outputs": [],
   "execution_count": 144
  },
  {
   "metadata": {
    "ExecuteTime": {
     "end_time": "2024-08-03T14:56:49.130923Z",
     "start_time": "2024-08-03T14:56:49.119951Z"
    }
   },
   "cell_type": "code",
   "source": [
    "NODE_NUM = 50\n",
    "TIME_STEPS = 100\n",
    "torch.set_default_dtype(torch.float64)"
   ],
   "id": "888aa18b51fc4231",
   "outputs": [],
   "execution_count": 145
  },
  {
   "metadata": {
    "ExecuteTime": {
     "end_time": "2024-08-03T14:56:49.520011Z",
     "start_time": "2024-08-03T14:56:49.509040Z"
    }
   },
   "cell_type": "code",
   "source": [
    "# Define the system\n",
    "class FSystem:\n",
    "    def __init__(self):\n",
    "        self.f = lambda x: torch.sin(x) + x\n",
    "         \n",
    "    def func(self, x):\n",
    "        x = torch.tensor(x)\n",
    "        return self.f(x).numpy()\n",
    "    \n",
    "    def jacobian(self, x):\n",
    "        x = torch.tensor(x)\n",
    "        f_jac = torch.vmap(jacfwd(self.f))\n",
    "        return f_jac(x).numpy()"
   ],
   "id": "7732ae44be80e49c",
   "outputs": [],
   "execution_count": 146
  },
  {
   "metadata": {
    "ExecuteTime": {
     "end_time": "2024-08-03T14:56:49.896362Z",
     "start_time": "2024-08-03T14:56:49.879368Z"
    }
   },
   "cell_type": "code",
   "source": [
    "class HSystem:\n",
    "    def __init__(self, node_num=NODE_NUM):\n",
    "        self.h1 = lambda x: torch.tensor([0., 1.]) @ (x ** 1.2)\n",
    "        self.h2 = lambda x: torch.tensor([1., 0.]) @ (x * torch.tanh(x))\n",
    "        self.node_classification = torch.tensor(np.random.binomial(1, 0.5, (node_num,1)))\n",
    "        \n",
    "    def func(self, x, n_expansions=0):\n",
    "        x = torch.Tensor(x)\n",
    "        node_classification = self.node_classification\n",
    "        for i in range(n_expansions):\n",
    "            node_classification = node_classification[:, None]\n",
    "        result = node_classification * self.h1(x) + (1 - node_classification) * self.h2(x)\n",
    "        return result.numpy()\n",
    "    \n",
    "    def jacobian(self, x, n_expansions=0):\n",
    "        x = torch.Tensor(x)\n",
    "        h1_jac = torch.vmap(jacfwd(self.h1))\n",
    "        h2_jac = torch.vmap(jacfwd(self.h2))\n",
    "        node_classification = self.node_classification\n",
    "        for i in range(n_expansions):\n",
    "            node_classification = node_classification[:, None]\n",
    "        result = node_classification * h1_jac(x) + (1 -node_classification) * h2_jac(x)\n",
    "        return result.numpy()"
   ],
   "id": "4f825f5edea8c42c",
   "outputs": [],
   "execution_count": 147
  },
  {
   "metadata": {
    "ExecuteTime": {
     "end_time": "2024-08-03T14:56:53.210987Z",
     "start_time": "2024-08-03T14:56:51.782089Z"
    }
   },
   "cell_type": "code",
   "source": [
    "h = HSystem()\n",
    "h_func = h.h1\n",
    "node_clf = h.node_classification\n",
    "h_jac = torch.vmap(jacfwd(h_func))\n",
    "# h_jac(torch.ones(1,2, 1)).shape\n",
    "# node_clf[:, None].shape\n",
    "(node_clf[:, None] * h_jac(torch.ones(1, 2, 1)) + (1 -node_clf[:, None]) * h_jac(torch.ones(1, 2, 1))).shape"
   ],
   "id": "7b32a4ea5c36f37c",
   "outputs": [
    {
     "data": {
      "text/plain": [
       "torch.Size([1, 50, 2, 1])"
      ]
     },
     "execution_count": 148,
     "metadata": {},
     "output_type": "execute_result"
    }
   ],
   "execution_count": 148
  },
  {
   "metadata": {
    "ExecuteTime": {
     "end_time": "2024-08-03T14:56:53.884062Z",
     "start_time": "2024-08-03T14:56:53.865112Z"
    }
   },
   "cell_type": "code",
   "source": [
    "def generate_data_points(f, q, x0, n_point):\n",
    "    noise_shape = x0.shape + (n_point,)\n",
    "    w = q * np.random.randn(*noise_shape)\n",
    "    data_points = np.zeros(shape=noise_shape)\n",
    "    x = x0\n",
    "    for i in range(n_point):\n",
    "        x = f(x) + w[..., i]\n",
    "        data_points[..., i] = x\n",
    "    return data_points\n",
    "\n",
    "def generate_measurements(h, data_points, r_array):\n",
    "    z = h(data_points, n_expansions=1)\n",
    "    noise_shape = z.shape\n",
    "    # print(z)\n",
    "    v = r_array[:, None,None] * np.random.randn(*noise_shape)\n",
    "    measurements = z + v\n",
    "    return  measurements"
   ],
   "id": "72881e735470b14e",
   "outputs": [],
   "execution_count": 149
  },
  {
   "metadata": {
    "ExecuteTime": {
     "end_time": "2024-08-03T14:56:54.957747Z",
     "start_time": "2024-08-03T14:56:54.945778Z"
    }
   },
   "cell_type": "code",
   "source": [
    "def centralized_extended_kalman_filter(measurements, f_system, h_system, r_array, q, P0, x0):\n",
    "    x_hat = np.zeros((TIME_STEPS, 2, 1))\n",
    "    measurements = measurements.transpose(2, 0, 1)\n",
    "    R_inv = 1 / (r_array**2)\n",
    "    P = P0\n",
    "    x_pred = x0\n",
    "    for i in range(measurements.shape[0]):\n",
    "        H_T = h_system.jacobian(x_pred[None,...], 1)[0, ...]\n",
    "        H = H_T.transpose((0, 2, 1))\n",
    "        node_s = H_T @ R_inv[:, None, None] @ H\n",
    "        y_node = H_T @ R_inv[:, None, None] @ measurements[i, ...,None]\n",
    "        y_pred = H_T @ R_inv[:, None, None] @ h_system.func(x_pred[None,...], 1)\n",
    "        s_all = np.sum(node_s, axis=0) / NODE_NUM\n",
    "        y_all_delta = np.sum(y_node - y_pred, axis=0) / NODE_NUM\n",
    "        M = np.linalg.inv(np.linalg.inv(P) + s_all)\n",
    "        x_current = x_pred + M @ y_all_delta\n",
    "        F = f_system.jacobian(x_current[None, ..., 0])[0, ...]\n",
    "        P = F @ M @ F.T + NODE_NUM * q**2 * np.eye(2)\n",
    "        x_pred = f_system.func(x_current)\n",
    "        x_hat[i, ...] = x_current\n",
    "    return x_hat"
   ],
   "id": "55c336ce160421e4",
   "outputs": [],
   "execution_count": 150
  },
  {
   "metadata": {
    "ExecuteTime": {
     "end_time": "2024-08-03T15:40:00.447322Z",
     "start_time": "2024-08-03T15:40:00.334624Z"
    }
   },
   "cell_type": "code",
   "source": [
    "def diffusion_extended_kalman_filter(measurements, f_system, h_system, r_array, q, P0, x0, j_matrix):\n",
    "    x_hat = np.zeros((TIME_STEPS, NODE_NUM, 2, 1))\n",
    "    R_inv = 1 / (r_array**2)\n",
    "    measurements = measurements.transpose(2, 0, 1)\n",
    "    P = j_matrix.sum(axis=0)[..., None, None] * P0\n",
    "    x_pred = x0\n",
    "    for i in range(measurements.shape[0]):\n",
    "        x_current_list = []\n",
    "        M_list = []\n",
    "        if i == 0:\n",
    "            x_pred = x_pred[None, ...].repeat(NODE_NUM, axis=0)\n",
    "        H_T = h_system.jacobian(x_pred, 1)\n",
    "        H = H_T.transpose((0, 1, 3, 2))\n",
    "        for j in range(NODE_NUM):\n",
    "            x_pred_j = x_pred[j, ...][None, ...]\n",
    "            H_T_j = H_T[j, ...]\n",
    "            H_j = H[j, ...]\n",
    "            node_s = H_T_j @ R_inv[:, None, None] @ H_j\n",
    "            y_node_j = H_T_j @ R_inv[:, None, None] @ measurements[i, ...,None]\n",
    "            y_pred_j = H_T_j @ R_inv[:, None, None] @ h_system.func(x_pred_j[None,...], 1)\n",
    "            s_local_j = (j_matrix[:, j, None, None] * node_s).sum(0) / j_matrix[:, j].sum()\n",
    "            y_local_delta_j = (j_matrix[:, j, None, None] * (y_node_j - y_pred_j)).sum(0) / j_matrix[:, j].sum()\n",
    "            M_j = np.linalg.inv(np.linalg.inv(P[j, ...]) + s_local_j)\n",
    "            x_current_j = (x_pred_j + M_j @ y_local_delta_j)[0, ...]\n",
    "            x_current_list.append(x_current_j)\n",
    "            M_list.append(M_j)\n",
    "        x_current_all = np.stack(x_current_list, axis=0)\n",
    "        M_all = np.stack(M_list, axis=0)\n",
    "        x_current = np.einsum('ij, jmk -> imk', j_matrix, x_current_all) / j_matrix.sum(axis=0)[..., None, None]\n",
    "        F = f_system.jacobian(x_current[..., 0])\n",
    "        P = F @ M_all @ F.transpose((0, 2, 1)) + j_matrix.sum(axis=0)[..., None, None] * q**2 * np.eye(2)\n",
    "        x_pred = f_system.func(x_current)\n",
    "        x_hat[i, ...] = x_current\n",
    "    return x_hat"
   ],
   "id": "5e280f726c37bdf8",
   "outputs": [],
   "execution_count": 161
  },
  {
   "metadata": {},
   "cell_type": "code",
   "outputs": [],
   "execution_count": null,
   "source": "h_system.func(x_pred_j[None,...], 1)[:,0,:] - h_system.func(x_pred, 1)[:,j,:]",
   "id": "8d662c1ff4b42d4b"
  },
  {
   "metadata": {
    "ExecuteTime": {
     "end_time": "2024-08-03T14:56:56.740902Z",
     "start_time": "2024-08-03T14:56:56.711099Z"
    }
   },
   "cell_type": "code",
   "source": [
    "def local_extended_kalman_filter2(measurements, f_system, h_system, r_array, q, P0, x0, j_matrix):\n",
    "    x_hat = np.zeros((TIME_STEPS, NODE_NUM, 2, 1))\n",
    "    R_inv = 1 / (r_array**2)\n",
    "    measurements = measurements.transpose(2, 0, 1)\n",
    "    P = j_matrix.sum(axis=0)[..., None, None] * P0\n",
    "    x_pred = x0\n",
    "    for i in range(measurements.shape[0]):\n",
    "        x_current_list = []\n",
    "        M_list = []\n",
    "        if i == 0:\n",
    "            x_pred = x_pred[None, ...].repeat(NODE_NUM, axis=0)\n",
    "        H_T = h_system.jacobian(x_pred, 1)\n",
    "        H = H_T.transpose((0, 1, 3, 2))\n",
    "        for j in range(NODE_NUM):\n",
    "            x_pred_j = x_pred[j, ...][None, ...]\n",
    "            H_T_j = H_T[j, ...]\n",
    "            H_j = H[j, ...]\n",
    "            node_s = H_T_j @ R_inv[:, None, None] @ H_j\n",
    "            y_node_j = H_T_j @ R_inv[:, None, None] @ measurements[i, ...,None]\n",
    "            y_pred_j = H_T_j @ R_inv[:, None, None] @ h_system.func(x_pred_j[None,...], 1)\n",
    "            s_local_j = (j_matrix[:, j, None, None] * node_s).sum(0) / j_matrix[:, j].sum()\n",
    "            y_local_delta_j = (j_matrix[:, j, None, None] * (y_node_j - y_pred_j)).sum(0) / j_matrix[:, j].sum()\n",
    "            M_j = np.linalg.inv(np.linalg.inv(P[j, ...]) + s_local_j)\n",
    "            x_current_j = (x_pred_j + M_j @ y_local_delta_j)[0, ...]\n",
    "            x_current_list.append(x_current_j)\n",
    "            M_list.append(M_j)\n",
    "        x_current_all = np.stack(x_current_list, axis=0)\n",
    "        M_all = np.stack(M_list, axis=0)\n",
    "        F = f_system.jacobian(x_current_all[..., 0])\n",
    "        P = F @ M_all @ F.transpose((0, 2, 1)) + j_matrix.sum(axis=0)[..., None, None] * q**2 * np.eye(2)\n",
    "        x_pred = f_system.func(x_current_all)\n",
    "        x_hat[i, ...] = x_current_all\n",
    "    return x_hat"
   ],
   "id": "9fdb0c02175d5914",
   "outputs": [],
   "execution_count": 152
  },
  {
   "metadata": {
    "ExecuteTime": {
     "end_time": "2024-08-03T14:56:58.686459Z",
     "start_time": "2024-08-03T14:56:58.650518Z"
    }
   },
   "cell_type": "code",
   "source": [
    "def alg_3_extended_kalman_filter2(measurements, f_system, h_system, r_array, q, P0, x0, j_matrix, eps=0.2):\n",
    "    x_hat = np.zeros((TIME_STEPS, NODE_NUM, 2, 1))\n",
    "    R_inv = 1 / (r_array**2)\n",
    "    measurements = measurements.transpose(2, 0, 1)\n",
    "    P = j_matrix.sum(axis=0)[..., None, None] * P0\n",
    "    x_pred = x0\n",
    "    for i in range(measurements.shape[0]):\n",
    "        x_current_list = []\n",
    "        M_list = []\n",
    "        if i == 0:\n",
    "            x_pred = x_pred[None, ...].repeat(NODE_NUM, axis=0)\n",
    "        H_T = h_system.jacobian(x_pred, 1)\n",
    "        H = H_T.transpose((0, 1, 3, 2))\n",
    "        for j in range(NODE_NUM):\n",
    "            x_pred_j = x_pred[j, ...][None, ...]\n",
    "            H_T_j = H_T[j, ...]\n",
    "            H_j = H[j, ...]\n",
    "            node_s = H_T_j @ R_inv[:, None, None] @ H_j\n",
    "            y_node_j = H_T_j @ R_inv[:, None, None] @ measurements[i, ...,None]\n",
    "            y_pred_j = H_T_j @ R_inv[:, None, None] @ h_system.func(x_pred_j[None,...], 1)\n",
    "            s_local_j = (j_matrix[:, j, None, None] * node_s).sum(0) / j_matrix[:, j].sum()\n",
    "            y_local_delta_j = (j_matrix[:, j, None, None] * (y_node_j - y_pred_j)).sum(0) / j_matrix[:, j].sum()\n",
    "            M_j = np.linalg.inv(np.linalg.inv(P[j, ...]) + s_local_j)\n",
    "            x_current_j = (x_pred_j + M_j @ y_local_delta_j)[0, ...]\n",
    "            x_current_list.append(x_current_j)\n",
    "            M_list.append(M_j)\n",
    "        x_diff_pred_neighborhood = (np.einsum('ij, jmk -> imk', j_matrix, x_pred) - j_matrix.sum(axis=0)[..., None, None] * x_pred)\n",
    "        x_diff_pred_neighborhood = x_diff_pred_neighborhood / j_matrix.sum(axis=0)[..., None, None]\n",
    "        x_current_all = np.stack(x_current_list, axis=0) + eps * x_diff_pred_neighborhood\n",
    "        M_all = np.stack(M_list, axis=0)\n",
    "        F = f_system.jacobian(x_current_all[..., 0])\n",
    "        P = F @ M_all @ F.transpose((0, 2, 1)) + j_matrix.sum(axis=0)[..., None, None] * q**2 * np.eye(2)\n",
    "        x_pred = f_system.func(x_current_all)\n",
    "        x_hat[i, ...] = x_current_all\n",
    "    return x_hat"
   ],
   "id": "7fd795d4e92c0d29",
   "outputs": [],
   "execution_count": 153
  },
  {
   "metadata": {
    "ExecuteTime": {
     "end_time": "2024-08-03T15:46:41.958187Z",
     "start_time": "2024-08-03T15:46:41.870385Z"
    }
   },
   "cell_type": "code",
   "source": [
    "h_sys = HSystem()\n",
    "f_sys = FSystem()\n",
    "g = nx.connected_watts_strogatz_graph(NODE_NUM, 5, 0.4, seed=42)\n",
    "g.add_edges_from([(i, i) for i in range(NODE_NUM)])"
   ],
   "id": "565083e615ff63be",
   "outputs": [],
   "execution_count": 165
  },
  {
   "metadata": {
    "ExecuteTime": {
     "end_time": "2024-08-03T15:52:22.433893Z",
     "start_time": "2024-08-03T15:52:22.415906Z"
    }
   },
   "cell_type": "code",
   "source": "adj_matrix = nx.adjacency_matrix(g).todense()",
   "id": "22eea9dfd0a95a31",
   "outputs": [
    {
     "data": {
      "text/plain": [
       "(50, 50, 50)"
      ]
     },
     "execution_count": 179,
     "metadata": {},
     "output_type": "execute_result"
    }
   ],
   "execution_count": 179
  },
  {
   "metadata": {
    "ExecuteTime": {
     "end_time": "2024-08-03T15:25:32.392718Z",
     "start_time": "2024-08-03T15:11:03.101633Z"
    }
   },
   "cell_type": "code",
   "source": [
    "x_hat_kalman_list3 = []\n",
    "x_hat_local_kalman_list = []\n",
    "x_hat_diffusion_kalman_list = []\n",
    "x_hat_alg_3_list = []\n",
    "x_points_list = []\n",
    "q = 1\n",
    "P0 = 1 *np.eye(2)\n",
    "x0 = np.array([[1, 1],]).T\n",
    "x_points = generate_data_points(f_sys.func, q, np.array([10, 10]).T, TIME_STEPS)\n",
    "for i in tqdm(range(1)):\n",
    "    r_array = (np.linspace(1, NODE_NUM, NODE_NUM))**0.5\n",
    "    x_points_list.append(x_points.T)\n",
    "    meas = generate_measurements(h_sys.func, x_points, r_array)\n",
    "    adj_matrix = nx.adjacency_matrix(g)\n",
    "    x_hat_kalman3 = centralized_extended_kalman_filter(meas, f_sys, h_sys, r_array, q, P0, x0)\n",
    "    x_hat_local_kalman = local_extended_kalman_filter2(meas, f_sys, h_sys, r_array, q, P0, x0, j_matrix)\n",
    "    x_hat_diffusion_kalman = diffusion_extended_kalman_filter(meas, f_sys, h_sys, r_array, q, P0, x0, j_matrix)\n",
    "    x_hat_alg_3 = alg_3_extended_kalman_filter2(meas, f_sys, h_sys, r_array, q, P0, x0, j_matrix)\n",
    "    x_hat_kalman_list3.append(x_hat_kalman3)\n",
    "    x_hat_local_kalman_list.append(x_hat_local_kalman)\n",
    "    x_hat_alg_3_list.append(x_hat_alg_3)\n",
    "    x_hat_diffusion_kalman_list.append(x_hat_diffusion_kalman)\n",
    "x_points = np.stack(x_points_list, axis=0)\n",
    "x_hat_kalman3 = np.stack(x_hat_kalman_list3, axis=0)\n",
    "x_hat_diffusion_kalman = np.stack(x_hat_diffusion_kalman_list, axis=0)\n",
    "x_hat_local_kalman = np.stack(x_hat_local_kalman_list, axis=0)\n",
    "x_hat_alg_3 = np.stack(x_hat_alg_3_list, axis=0)"
   ],
   "id": "45109b975a974f4f",
   "outputs": [
    {
     "name": "stderr",
     "output_type": "stream",
     "text": [
      "  0%|          | 0/1 [14:28<?, ?it/s]\n"
     ]
    },
    {
     "ename": "KeyboardInterrupt",
     "evalue": "",
     "output_type": "error",
     "traceback": [
      "\u001B[1;31m---------------------------------------------------------------------------\u001B[0m",
      "\u001B[1;31mKeyboardInterrupt\u001B[0m                         Traceback (most recent call last)",
      "\u001B[1;32m<ipython-input-160-1490f17ea5c5>\u001B[0m in \u001B[0;36m<module>\u001B[1;34m\u001B[0m\n\u001B[0;32m     16\u001B[0m     \u001B[0mx_hat_kalman3\u001B[0m \u001B[1;33m=\u001B[0m \u001B[0mcentralized_extended_kalman_filter\u001B[0m\u001B[1;33m(\u001B[0m\u001B[0mmeas\u001B[0m\u001B[1;33m,\u001B[0m \u001B[0mf_sys\u001B[0m\u001B[1;33m,\u001B[0m \u001B[0mh_sys\u001B[0m\u001B[1;33m,\u001B[0m \u001B[0mr_array\u001B[0m\u001B[1;33m,\u001B[0m \u001B[0mq\u001B[0m\u001B[1;33m,\u001B[0m \u001B[0mP0\u001B[0m\u001B[1;33m,\u001B[0m \u001B[0mx0\u001B[0m\u001B[1;33m)\u001B[0m\u001B[1;33m\u001B[0m\u001B[1;33m\u001B[0m\u001B[0m\n\u001B[0;32m     17\u001B[0m     \u001B[0mx_hat_local_kalman\u001B[0m \u001B[1;33m=\u001B[0m \u001B[0mlocal_extended_kalman_filter2\u001B[0m\u001B[1;33m(\u001B[0m\u001B[0mmeas\u001B[0m\u001B[1;33m,\u001B[0m \u001B[0mf_sys\u001B[0m\u001B[1;33m,\u001B[0m \u001B[0mh_sys\u001B[0m\u001B[1;33m,\u001B[0m \u001B[0mr_array\u001B[0m\u001B[1;33m,\u001B[0m \u001B[0mq\u001B[0m\u001B[1;33m,\u001B[0m \u001B[0mP0\u001B[0m\u001B[1;33m,\u001B[0m \u001B[0mx0\u001B[0m\u001B[1;33m,\u001B[0m \u001B[0mj_matrix\u001B[0m\u001B[1;33m)\u001B[0m\u001B[1;33m\u001B[0m\u001B[1;33m\u001B[0m\u001B[0m\n\u001B[1;32m---> 18\u001B[1;33m     \u001B[0mx_hat_diffusion_kalman\u001B[0m \u001B[1;33m=\u001B[0m \u001B[0mdiffusion_extended_kalman_filter\u001B[0m\u001B[1;33m(\u001B[0m\u001B[0mmeas\u001B[0m\u001B[1;33m,\u001B[0m \u001B[0mf_sys\u001B[0m\u001B[1;33m,\u001B[0m \u001B[0mh_sys\u001B[0m\u001B[1;33m,\u001B[0m \u001B[0mr_array\u001B[0m\u001B[1;33m,\u001B[0m \u001B[0mq\u001B[0m\u001B[1;33m,\u001B[0m \u001B[0mP0\u001B[0m\u001B[1;33m,\u001B[0m \u001B[0mx0\u001B[0m\u001B[1;33m,\u001B[0m \u001B[0mj_matrix\u001B[0m\u001B[1;33m)\u001B[0m\u001B[1;33m\u001B[0m\u001B[1;33m\u001B[0m\u001B[0m\n\u001B[0m\u001B[0;32m     19\u001B[0m     \u001B[0mx_hat_alg_3\u001B[0m \u001B[1;33m=\u001B[0m \u001B[0malg_3_extended_kalman_filter2\u001B[0m\u001B[1;33m(\u001B[0m\u001B[0mmeas\u001B[0m\u001B[1;33m,\u001B[0m \u001B[0mf_sys\u001B[0m\u001B[1;33m,\u001B[0m \u001B[0mh_sys\u001B[0m\u001B[1;33m,\u001B[0m \u001B[0mr_array\u001B[0m\u001B[1;33m,\u001B[0m \u001B[0mq\u001B[0m\u001B[1;33m,\u001B[0m \u001B[0mP0\u001B[0m\u001B[1;33m,\u001B[0m \u001B[0mx0\u001B[0m\u001B[1;33m,\u001B[0m \u001B[0mj_matrix\u001B[0m\u001B[1;33m)\u001B[0m\u001B[1;33m\u001B[0m\u001B[1;33m\u001B[0m\u001B[0m\n\u001B[0;32m     20\u001B[0m     \u001B[0mx_hat_kalman_list3\u001B[0m\u001B[1;33m.\u001B[0m\u001B[0mappend\u001B[0m\u001B[1;33m(\u001B[0m\u001B[0mx_hat_kalman3\u001B[0m\u001B[1;33m)\u001B[0m\u001B[1;33m\u001B[0m\u001B[1;33m\u001B[0m\u001B[0m\n",
      "\u001B[1;32m<ipython-input-159-6045329c8920>\u001B[0m in \u001B[0;36mdiffusion_extended_kalman_filter\u001B[1;34m(measurements, f_system, h_system, r_array, q, P0, x0, j_matrix)\u001B[0m\n\u001B[0;32m     31\u001B[0m         \u001B[0mP\u001B[0m \u001B[1;33m=\u001B[0m \u001B[0mF\u001B[0m \u001B[1;33m@\u001B[0m \u001B[0mM_all\u001B[0m \u001B[1;33m@\u001B[0m \u001B[0mF\u001B[0m\u001B[1;33m.\u001B[0m\u001B[0mtranspose\u001B[0m\u001B[1;33m(\u001B[0m\u001B[1;33m(\u001B[0m\u001B[1;36m0\u001B[0m\u001B[1;33m,\u001B[0m \u001B[1;36m2\u001B[0m\u001B[1;33m,\u001B[0m \u001B[1;36m1\u001B[0m\u001B[1;33m)\u001B[0m\u001B[1;33m)\u001B[0m \u001B[1;33m+\u001B[0m \u001B[0mj_matrix\u001B[0m\u001B[1;33m.\u001B[0m\u001B[0msum\u001B[0m\u001B[1;33m(\u001B[0m\u001B[0maxis\u001B[0m\u001B[1;33m=\u001B[0m\u001B[1;36m0\u001B[0m\u001B[1;33m)\u001B[0m\u001B[1;33m[\u001B[0m\u001B[1;33m...\u001B[0m\u001B[1;33m,\u001B[0m \u001B[1;32mNone\u001B[0m\u001B[1;33m,\u001B[0m \u001B[1;32mNone\u001B[0m\u001B[1;33m]\u001B[0m \u001B[1;33m*\u001B[0m \u001B[0mq\u001B[0m\u001B[1;33m**\u001B[0m\u001B[1;36m2\u001B[0m \u001B[1;33m*\u001B[0m \u001B[0mnp\u001B[0m\u001B[1;33m.\u001B[0m\u001B[0meye\u001B[0m\u001B[1;33m(\u001B[0m\u001B[1;36m2\u001B[0m\u001B[1;33m)\u001B[0m\u001B[1;33m\u001B[0m\u001B[1;33m\u001B[0m\u001B[0m\n\u001B[0;32m     32\u001B[0m         \u001B[0mx_pred\u001B[0m \u001B[1;33m=\u001B[0m \u001B[0mf_system\u001B[0m\u001B[1;33m.\u001B[0m\u001B[0mfunc\u001B[0m\u001B[1;33m(\u001B[0m\u001B[0mx_current\u001B[0m\u001B[1;33m)\u001B[0m\u001B[1;33m\u001B[0m\u001B[1;33m\u001B[0m\u001B[0m\n\u001B[1;32m---> 33\u001B[1;33m         \u001B[0mx_hat\u001B[0m\u001B[1;33m[\u001B[0m\u001B[0mi\u001B[0m\u001B[1;33m,\u001B[0m \u001B[1;33m...\u001B[0m\u001B[1;33m]\u001B[0m \u001B[1;33m=\u001B[0m \u001B[0mx_current\u001B[0m\u001B[1;33m\u001B[0m\u001B[1;33m\u001B[0m\u001B[0m\n\u001B[0m\u001B[0;32m     34\u001B[0m     \u001B[1;32mreturn\u001B[0m \u001B[0mx_hat\u001B[0m\u001B[1;33m\u001B[0m\u001B[1;33m\u001B[0m\u001B[0m\n",
      "\u001B[1;32m<ipython-input-159-6045329c8920>\u001B[0m in \u001B[0;36mdiffusion_extended_kalman_filter\u001B[1;34m(measurements, f_system, h_system, r_array, q, P0, x0, j_matrix)\u001B[0m\n\u001B[0;32m     31\u001B[0m         \u001B[0mP\u001B[0m \u001B[1;33m=\u001B[0m \u001B[0mF\u001B[0m \u001B[1;33m@\u001B[0m \u001B[0mM_all\u001B[0m \u001B[1;33m@\u001B[0m \u001B[0mF\u001B[0m\u001B[1;33m.\u001B[0m\u001B[0mtranspose\u001B[0m\u001B[1;33m(\u001B[0m\u001B[1;33m(\u001B[0m\u001B[1;36m0\u001B[0m\u001B[1;33m,\u001B[0m \u001B[1;36m2\u001B[0m\u001B[1;33m,\u001B[0m \u001B[1;36m1\u001B[0m\u001B[1;33m)\u001B[0m\u001B[1;33m)\u001B[0m \u001B[1;33m+\u001B[0m \u001B[0mj_matrix\u001B[0m\u001B[1;33m.\u001B[0m\u001B[0msum\u001B[0m\u001B[1;33m(\u001B[0m\u001B[0maxis\u001B[0m\u001B[1;33m=\u001B[0m\u001B[1;36m0\u001B[0m\u001B[1;33m)\u001B[0m\u001B[1;33m[\u001B[0m\u001B[1;33m...\u001B[0m\u001B[1;33m,\u001B[0m \u001B[1;32mNone\u001B[0m\u001B[1;33m,\u001B[0m \u001B[1;32mNone\u001B[0m\u001B[1;33m]\u001B[0m \u001B[1;33m*\u001B[0m \u001B[0mq\u001B[0m\u001B[1;33m**\u001B[0m\u001B[1;36m2\u001B[0m \u001B[1;33m*\u001B[0m \u001B[0mnp\u001B[0m\u001B[1;33m.\u001B[0m\u001B[0meye\u001B[0m\u001B[1;33m(\u001B[0m\u001B[1;36m2\u001B[0m\u001B[1;33m)\u001B[0m\u001B[1;33m\u001B[0m\u001B[1;33m\u001B[0m\u001B[0m\n\u001B[0;32m     32\u001B[0m         \u001B[0mx_pred\u001B[0m \u001B[1;33m=\u001B[0m \u001B[0mf_system\u001B[0m\u001B[1;33m.\u001B[0m\u001B[0mfunc\u001B[0m\u001B[1;33m(\u001B[0m\u001B[0mx_current\u001B[0m\u001B[1;33m)\u001B[0m\u001B[1;33m\u001B[0m\u001B[1;33m\u001B[0m\u001B[0m\n\u001B[1;32m---> 33\u001B[1;33m         \u001B[0mx_hat\u001B[0m\u001B[1;33m[\u001B[0m\u001B[0mi\u001B[0m\u001B[1;33m,\u001B[0m \u001B[1;33m...\u001B[0m\u001B[1;33m]\u001B[0m \u001B[1;33m=\u001B[0m \u001B[0mx_current\u001B[0m\u001B[1;33m\u001B[0m\u001B[1;33m\u001B[0m\u001B[0m\n\u001B[0m\u001B[0;32m     34\u001B[0m     \u001B[1;32mreturn\u001B[0m \u001B[0mx_hat\u001B[0m\u001B[1;33m\u001B[0m\u001B[1;33m\u001B[0m\u001B[0m\n",
      "\u001B[1;32m_pydevd_bundle\\pydevd_cython_win32_38_64.pyx\u001B[0m in \u001B[0;36m_pydevd_bundle.pydevd_cython_win32_38_64.SafeCallWrapper.__call__\u001B[1;34m()\u001B[0m\n",
      "\u001B[1;32m_pydevd_bundle\\pydevd_cython_win32_38_64.pyx\u001B[0m in \u001B[0;36m_pydevd_bundle.pydevd_cython_win32_38_64.PyDBFrame.trace_dispatch\u001B[1;34m()\u001B[0m\n",
      "\u001B[1;32m_pydevd_bundle\\pydevd_cython_win32_38_64.pyx\u001B[0m in \u001B[0;36m_pydevd_bundle.pydevd_cython_win32_38_64.PyDBFrame.trace_dispatch\u001B[1;34m()\u001B[0m\n",
      "\u001B[1;32m_pydevd_bundle\\pydevd_cython_win32_38_64.pyx\u001B[0m in \u001B[0;36m_pydevd_bundle.pydevd_cython_win32_38_64.PyDBFrame.trace_dispatch\u001B[1;34m()\u001B[0m\n",
      "\u001B[1;32m_pydevd_bundle\\pydevd_cython_win32_38_64.pyx\u001B[0m in \u001B[0;36m_pydevd_bundle.pydevd_cython_win32_38_64.PyDBFrame.do_wait_suspend\u001B[1;34m()\u001B[0m\n",
      "\u001B[1;32mC:\\Program Files\\JetBrains\\DataSpell 2024.1.3\\plugins\\python-ce\\helpers\\pydev\\pydevd.py\u001B[0m in \u001B[0;36mdo_wait_suspend\u001B[1;34m(self, thread, frame, event, arg, send_suspend_message, is_unhandled_exception)\u001B[0m\n\u001B[0;32m   1194\u001B[0m \u001B[1;33m\u001B[0m\u001B[0m\n\u001B[0;32m   1195\u001B[0m         \u001B[1;32mwith\u001B[0m \u001B[0mself\u001B[0m\u001B[1;33m.\u001B[0m\u001B[0m_threads_suspended_single_notification\u001B[0m\u001B[1;33m.\u001B[0m\u001B[0mnotify_thread_suspended\u001B[0m\u001B[1;33m(\u001B[0m\u001B[0mthread_id\u001B[0m\u001B[1;33m,\u001B[0m \u001B[0mstop_reason\u001B[0m\u001B[1;33m)\u001B[0m\u001B[1;33m:\u001B[0m\u001B[1;33m\u001B[0m\u001B[1;33m\u001B[0m\u001B[0m\n\u001B[1;32m-> 1196\u001B[1;33m             \u001B[0mself\u001B[0m\u001B[1;33m.\u001B[0m\u001B[0m_do_wait_suspend\u001B[0m\u001B[1;33m(\u001B[0m\u001B[0mthread\u001B[0m\u001B[1;33m,\u001B[0m \u001B[0mframe\u001B[0m\u001B[1;33m,\u001B[0m \u001B[0mevent\u001B[0m\u001B[1;33m,\u001B[0m \u001B[0marg\u001B[0m\u001B[1;33m,\u001B[0m \u001B[0msuspend_type\u001B[0m\u001B[1;33m,\u001B[0m \u001B[0mfrom_this_thread\u001B[0m\u001B[1;33m)\u001B[0m\u001B[1;33m\u001B[0m\u001B[1;33m\u001B[0m\u001B[0m\n\u001B[0m\u001B[0;32m   1197\u001B[0m \u001B[1;33m\u001B[0m\u001B[0m\n\u001B[0;32m   1198\u001B[0m     \u001B[1;32mdef\u001B[0m \u001B[0m_do_wait_suspend\u001B[0m\u001B[1;33m(\u001B[0m\u001B[0mself\u001B[0m\u001B[1;33m,\u001B[0m \u001B[0mthread\u001B[0m\u001B[1;33m,\u001B[0m \u001B[0mframe\u001B[0m\u001B[1;33m,\u001B[0m \u001B[0mevent\u001B[0m\u001B[1;33m,\u001B[0m \u001B[0marg\u001B[0m\u001B[1;33m,\u001B[0m \u001B[0msuspend_type\u001B[0m\u001B[1;33m,\u001B[0m \u001B[0mfrom_this_thread\u001B[0m\u001B[1;33m)\u001B[0m\u001B[1;33m:\u001B[0m\u001B[1;33m\u001B[0m\u001B[1;33m\u001B[0m\u001B[0m\n",
      "\u001B[1;32mC:\\Program Files\\JetBrains\\DataSpell 2024.1.3\\plugins\\python-ce\\helpers\\pydev\\pydevd.py\u001B[0m in \u001B[0;36m_do_wait_suspend\u001B[1;34m(self, thread, frame, event, arg, suspend_type, from_this_thread)\u001B[0m\n\u001B[0;32m   1209\u001B[0m \u001B[1;33m\u001B[0m\u001B[0m\n\u001B[0;32m   1210\u001B[0m                 \u001B[0mself\u001B[0m\u001B[1;33m.\u001B[0m\u001B[0mprocess_internal_commands\u001B[0m\u001B[1;33m(\u001B[0m\u001B[1;33m)\u001B[0m\u001B[1;33m\u001B[0m\u001B[1;33m\u001B[0m\u001B[0m\n\u001B[1;32m-> 1211\u001B[1;33m                 \u001B[0mtime\u001B[0m\u001B[1;33m.\u001B[0m\u001B[0msleep\u001B[0m\u001B[1;33m(\u001B[0m\u001B[1;36m0.01\u001B[0m\u001B[1;33m)\u001B[0m\u001B[1;33m\u001B[0m\u001B[1;33m\u001B[0m\u001B[0m\n\u001B[0m\u001B[0;32m   1212\u001B[0m \u001B[1;33m\u001B[0m\u001B[0m\n\u001B[0;32m   1213\u001B[0m         \u001B[0mself\u001B[0m\u001B[1;33m.\u001B[0m\u001B[0mcancel_async_evaluation\u001B[0m\u001B[1;33m(\u001B[0m\u001B[0mget_current_thread_id\u001B[0m\u001B[1;33m(\u001B[0m\u001B[0mthread\u001B[0m\u001B[1;33m)\u001B[0m\u001B[1;33m,\u001B[0m \u001B[0mstr\u001B[0m\u001B[1;33m(\u001B[0m\u001B[0mid\u001B[0m\u001B[1;33m(\u001B[0m\u001B[0mframe\u001B[0m\u001B[1;33m)\u001B[0m\u001B[1;33m)\u001B[0m\u001B[1;33m)\u001B[0m\u001B[1;33m\u001B[0m\u001B[1;33m\u001B[0m\u001B[0m\n",
      "\u001B[1;31mKeyboardInterrupt\u001B[0m: "
     ]
    }
   ],
   "execution_count": 160
  },
  {
   "metadata": {
    "ExecuteTime": {
     "end_time": "2024-07-19T13:36:50.626520Z",
     "start_time": "2024-07-19T13:36:50.612556Z"
    }
   },
   "cell_type": "code",
   "source": [
    "\n",
    "# err_kalman = np.linalg.norm(x_hat_kalman - x_points.T[..., None], axis=(-1,-2)).mean(axis=0)\n",
    "# err_kalman2 = np.linalg.norm(x_hat_kalman2 - x_points.T[..., None], axis=(-1,-2)).mean(axis=0)\n",
    "err_kalman3 = np.linalg.norm(x_hat_kalman3 - x_points[..., None], axis=(-1,-2)).mean(axis=0)\n",
    "err_local_kalman = np.linalg.norm(x_hat_local_kalman - x_points[:, :, None, ..., None].repeat(NODE_NUM, axis=2), axis=(-1,-2)).mean(axis=(0, 2))\n",
    "err_local_kalman2 = np.linalg.norm(x_hat_diffusion_kalman - x_points[:, :, None,..., None].repeat(NODE_NUM, axis=2), axis=(-1,-2)).mean(axis=(0, 2))\n",
    "err_alg_3 = np.linalg.norm(x_hat_alg_3 - x_points[:, :, None, ..., None].repeat(NODE_NUM, axis=2), axis=(-1,-2)).mean(axis=(0, 2))\n",
    "# err_alg_3 = np.linalg.norm(x_hat_alg_3 - x_points.T[:, None,..., None].repeat(NODE_NUM, axis=1), axis=(-1,-2)).mean(axis=1)"
   ],
   "id": "30a7b849cffc31f0",
   "outputs": [],
   "execution_count": 172
  },
  {
   "metadata": {
    "ExecuteTime": {
     "end_time": "2024-07-19T13:36:50.848380Z",
     "start_time": "2024-07-19T13:36:50.627516Z"
    }
   },
   "cell_type": "code",
   "source": [
    "plt.figure(figsize=(10, 8))\n",
    "# plt.plot(err_kalman, 'r', label='CEKF')\n",
    "# plt.plot(err_kalman2, 'g', label='CEKF2')\n",
    "plt.plot(err_kalman3, 'r', label='CEKF3')\n",
    "plt.plot(err_local_kalman, 'b', label='LDEKF')\n",
    "plt.plot(err_alg_3, 'y', label='Alg-3')\n",
    "plt.plot(err_local_kalman2, 'g', label='DiffEKF')\n",
    "plt.legend()\n",
    "plt.xlabel('Time Steps')\n",
    "plt.ylabel('Estimation Error')\n",
    "plt.ylim([0, 10])\n",
    "# do log scale\n",
    "# plt.yscale('log')\n",
    "plt.show()"
   ],
   "id": "d82ecdab9cb692a2",
   "outputs": [
    {
     "data": {
      "text/plain": [
       "<Figure size 720x576 with 1 Axes>"
      ],
      "image/png": "[encoded data removed]"
     },
     "metadata": {
      "needs_background": "light"
     },
     "output_type": "display_data"
    }
   ],
   "execution_count": 173
  },
  {
   "metadata": {},
   "cell_type": "markdown",
   "source": "# Deep Extended Kalman Filter",
   "id": "3dd0e88ad0505f64"
  },
  {
   "metadata": {
    "ExecuteTime": {
     "end_time": "2024-07-26T15:55:40.808132Z",
     "start_time": "2024-07-26T15:55:29.524298Z"
    }
   },
   "cell_type": "code",
   "source": [
    "import torch\n",
    "from torch_geometric.nn import GATv2Conv, GCNConv\n",
    "import pytorch_lightning as pl"
   ],
   "id": "4629478045425a06",
   "outputs": [],
   "execution_count": 45
  },
  {
   "metadata": {
    "ExecuteTime": {
     "end_time": "2024-07-27T14:49:46.060700Z",
     "start_time": "2024-07-27T14:49:46.044790Z"
    }
   },
   "cell_type": "code",
   "source": "gat = GATv2Conv(16, 64, heads=1, edge_dim=2, concat=False, dropout=0.0)",
   "id": "3dcfe55a692b520f",
   "outputs": [],
   "execution_count": 80
  },
  {
   "metadata": {
    "ExecuteTime": {
     "end_time": "2024-08-02T15:45:01.747087Z",
     "start_time": "2024-08-02T15:45:01.730387Z"
    }
   },
   "cell_type": "code",
   "source": [
    "# create example for GATConv returning edge_attr\n",
    "x = torch.randn(8, 16)\n",
    "edge_index = torch.tensor([[0, 1, 1, 2, 2, 3, 4, 5, 6, 7],\n",
    "                            [1, 0, 2, 1, 3, 2, 5, 4, 7, 6]])\n",
    "edge_attr = torch.randn(10, 2)"
   ],
   "id": "3e131e00f9557ada",
   "outputs": [],
   "execution_count": 134
  },
  {
   "metadata": {
    "ExecuteTime": {
     "end_time": "2024-08-02T15:43:56.710255Z",
     "start_time": "2024-08-02T15:43:56.694589Z"
    }
   },
   "cell_type": "code",
   "source": "edge_index.shape",
   "id": "35492d280752d4c1",
   "outputs": [
    {
     "data": {
      "text/plain": [
       "torch.Size([2, 10])"
      ]
     },
     "execution_count": 126,
     "metadata": {},
     "output_type": "execute_result"
    }
   ],
   "execution_count": 126
  },
  {
   "metadata": {
    "ExecuteTime": {
     "end_time": "2024-08-02T15:43:56.927885Z",
     "start_time": "2024-08-02T15:43:56.894576Z"
    }
   },
   "cell_type": "code",
   "source": [
    "# forward pass\n",
    "out = gat(x, edge_index, edge_attr, return_attention_weights=True)"
   ],
   "id": "3012ba3f3efd3edb",
   "outputs": [],
   "execution_count": 127
  },
  {
   "metadata": {
    "ExecuteTime": {
     "end_time": "2024-08-02T15:43:57.076932Z",
     "start_time": "2024-08-02T15:43:57.061309Z"
    }
   },
   "cell_type": "code",
   "source": "len(out)",
   "id": "d0fabf091dc607f2",
   "outputs": [
    {
     "data": {
      "text/plain": [
       "2"
      ]
     },
     "execution_count": 128,
     "metadata": {},
     "output_type": "execute_result"
    }
   ],
   "execution_count": 128
  },
  {
   "metadata": {
    "ExecuteTime": {
     "end_time": "2024-08-02T15:43:57.260256Z",
     "start_time": "2024-08-02T15:43:57.244554Z"
    }
   },
   "cell_type": "code",
   "source": "out[0].shape",
   "id": "2c3dbd907a568be9",
   "outputs": [
    {
     "data": {
      "text/plain": [
       "torch.Size([8, 64])"
      ]
     },
     "execution_count": 129,
     "metadata": {},
     "output_type": "execute_result"
    }
   ],
   "execution_count": 129
  },
  {
   "metadata": {
    "ExecuteTime": {
     "end_time": "2024-08-02T15:43:57.393632Z",
     "start_time": "2024-08-02T15:43:57.378008Z"
    }
   },
   "cell_type": "code",
   "source": "out[1][1].shape",
   "id": "3a97199c714c1429",
   "outputs": [
    {
     "data": {
      "text/plain": [
       "torch.Size([18, 1])"
      ]
     },
     "execution_count": 130,
     "metadata": {},
     "output_type": "execute_result"
    }
   ],
   "execution_count": 130
  },
  {
   "metadata": {
    "ExecuteTime": {
     "end_time": "2024-08-02T15:43:57.593700Z",
     "start_time": "2024-08-02T15:43:57.578077Z"
    }
   },
   "cell_type": "code",
   "source": [
    "# implement ST_GAT Model using  pytorch_lightning\n",
    "class ST_GAT(torch.nn.Module):\n",
    "    def __init__(self, in_channels, out_channels, edge_dim, node_kalman_dim, edge_kalman_dim, heads=1, dropout=0.0):\n",
    "        super(ST_GAT, self).__init__()\n",
    "        self.gat = GATv2Conv(in_channels, out_channels, heads=heads, edge_dim=edge_dim, dropout=dropout, concat=False)\n",
    "        self.node_lstm = torch.nn.GRU(input_size=out_channels, hidden_size=node_kalman_dim, num_layers=1, batch_first=True)\n",
    "        self.edge_lstm = torch.nn.GRU(input_size=heads, hidden_size=edge_kalman_dim, num_layers=1, batch_first=True)\n",
    "        \n",
    "    def forward(self, node_features, edge_index, edge_attr, node_hidden, edge_hidden):\n",
    "        node_output, egde_output = self.gat(node_features, edge_index, edge_attr, return_attention_weights=True)\n",
    "        edge_index, edge_attr = egde_output\n",
    "        _, node_hidden = self.node_lstm(node_output.unsqueeze(1), node_hidden)\n",
    "        _, edge_hidden = self.edge_lstm(edge_attr.unsqueeze(1), edge_hidden)\n",
    "        return node_hidden, edge_hidden, edge_index\n",
    "    \n",
    "\n",
    "class GraphKalmanFilter(torch.nn.Module):\n",
    "    def __init__(self, node_num, h_func, f_func, signal_dim, node_feature_dim, node_output_dim, edge_features_dim, node_kalman_dim, edge_kalman_dim, heads=1, dropout=0.0):\n",
    "        super(GraphKalmanFilter, self).__init__()\n",
    "        self.node_num = node_num\n",
    "        self.gat_rnn = ST_GAT(node_feature_dim, node_output_dim, edge_features_dim, node_kalman_dim, edge_kalman_dim, heads, dropout)\n",
    "        self.loss = torch.nn.MSELoss()\n",
    "        self.gcn = GCNConv(signal_dim, signal_dim, aggr='mean')\n",
    "        self.h = h_func\n",
    "        self.f = f_func\n",
    "    \n",
    "    def forward(self, measurements, x_pred_t_1_t_1, x_pred_t_1_t_2, node_hidden, edge_index, edge_hidden):\n",
    "        x_pred_t_t_1 = self.f(x_pred_t_1_t_1)\n",
    "        y_pred_t_t_1 = self.h(x_pred_t_t_1, 1)\n",
    "        # TODO: check the shape of the measurements minus y_pred_t_t_1 - the y_pred is unique for each node\n",
    "        delta_y_t = measurements - y_pred_t_t_1\n",
    "        delta_x_hat_t_1 = x_pred_t_1_t_1 - x_pred_t_1_t_2\n",
    "        edge_features = delta_y_t[edge_index[0, :], edge_index[1, :], ...]\n",
    "        node_kalman, edge_kalman, edge_index = self.gat_rnn(delta_x_hat_t_1, edge_index, edge_features, node_hidden, edge_hidden)\n",
    "        phi_pred_t_t = x_pred_t_t_1 + node_kalman @ delta_y_t\n",
    "        x_pred_t_t = self.gcn(phi_pred_t_t)\n",
    "        return node_hidden, edge_hidden, edge_index\n"
   ],
   "id": "9af60fa6476bebf9",
   "outputs": [],
   "execution_count": 131
  },
  {
   "metadata": {
    "ExecuteTime": {
     "end_time": "2024-08-02T15:45:06.663955Z",
     "start_time": "2024-08-02T15:45:06.648337Z"
    }
   },
   "cell_type": "code",
   "source": [
    "layer = ST_GAT(16, 64, 2, 32, 32, heads=1, dropout=0.0)\n",
    "node_output, edge_attr_out, edge_index_out, node_hidden_out, edge_hidden_out = layer(\n",
    "    x, edge_index, edge_attr, torch.randn(1, 8, 32), torch.randn(1, 18, 32))"
   ],
   "id": "fd9ac8f002b53d04",
   "outputs": [],
   "execution_count": 138
  },
  {
   "metadata": {
    "ExecuteTime": {
     "end_time": "2024-08-02T15:42:39.205809Z",
     "start_time": "2024-08-02T15:42:39.173806Z"
    }
   },
   "cell_type": "code",
   "source": "len(out)",
   "id": "ffed1d1022b2668d",
   "outputs": [
    {
     "data": {
      "text/plain": [
       "5"
      ]
     },
     "execution_count": 119,
     "metadata": {},
     "output_type": "execute_result"
    }
   ],
   "execution_count": 119
  },
  {
   "metadata": {
    "ExecuteTime": {
     "end_time": "2024-08-02T15:32:51.773683Z",
     "start_time": "2024-08-02T15:32:51.758016Z"
    }
   },
   "cell_type": "code",
   "source": "x.unsqueeze(1).shape",
   "id": "9d1a4eecc142ff80",
   "outputs": [
    {
     "data": {
      "text/plain": [
       "torch.Size([8, 1, 16])"
      ]
     },
     "execution_count": 106,
     "metadata": {},
     "output_type": "execute_result"
    }
   ],
   "execution_count": 106
  },
  {
   "metadata": {
    "ExecuteTime": {
     "end_time": "2024-08-03T15:44:11.049205Z",
     "start_time": "2024-08-03T15:44:11.013305Z"
    }
   },
   "cell_type": "code",
   "source": "edge_index",
   "id": "bb23c72c640b1b4a",
   "outputs": [
    {
     "data": {
      "text/plain": [
       "tensor([[0, 1, 1, 2, 2, 3, 4, 5, 6, 7],\n",
       "        [1, 0, 2, 1, 3, 2, 5, 4, 7, 6]])"
      ]
     },
     "execution_count": 164,
     "metadata": {},
     "output_type": "execute_result"
    }
   ],
   "execution_count": 164
  },
  {
   "metadata": {
    "ExecuteTime": {
     "end_time": "2024-08-03T17:10:09.678449Z",
     "start_time": "2024-08-03T17:10:09.653515Z"
    }
   },
   "cell_type": "code",
   "source": "torch.tensor(adj_matrix)[*edge_index].shape",
   "id": "ddb68f8cfe9409ed",
   "outputs": [
    {
     "ename": "SyntaxError",
     "evalue": "invalid syntax (<ipython-input-192-0f7107a206d2>, line 1)",
     "output_type": "error",
     "traceback": [
      "\u001B[1;36m  File \u001B[1;32m\"<ipython-input-192-0f7107a206d2>\"\u001B[1;36m, line \u001B[1;32m1\u001B[0m\n\u001B[1;33m    torch.tensor(adj_matrix)[*edge_index].shape\u001B[0m\n\u001B[1;37m                             ^\u001B[0m\n\u001B[1;31mSyntaxError\u001B[0m\u001B[1;31m:\u001B[0m invalid syntax\n"
     ]
    }
   ],
   "execution_count": 192
  },
  {
   "metadata": {
    "ExecuteTime": {
     "end_time": "2024-08-03T17:16:36.280491Z",
     "start_time": "2024-08-03T17:16:36.251286Z"
    }
   },
   "cell_type": "code",
   "source": "edge_index.shape",
   "id": "463cb251d6b9e5ad",
   "outputs": [
    {
     "data": {
      "text/plain": [
       "torch.Size([2, 10])"
      ]
     },
     "execution_count": 193,
     "metadata": {},
     "output_type": "execute_result"
    }
   ],
   "execution_count": 193
  },
  {
   "metadata": {
    "ExecuteTime": {
     "end_time": "2024-08-03T17:16:40.439033Z",
     "start_time": "2024-08-03T17:16:40.366224Z"
    }
   },
   "cell_type": "code",
   "source": "adj_matrix[edge_index[0, :], edge_index[1, :]].shape",
   "id": "fe3b377ee473ebab",
   "outputs": [
    {
     "data": {
      "text/plain": [
       "(10,)"
      ]
     },
     "execution_count": 194,
     "metadata": {},
     "output_type": "execute_result"
    }
   ],
   "execution_count": 194
  },
  {
   "metadata": {
    "ExecuteTime": {
     "end_time": "2024-08-03T16:35:01.361070Z",
     "start_time": "2024-08-03T16:35:01.338132Z"
    }
   },
   "cell_type": "code",
   "source": "np.array([[0, 1, 1, 2, 2, 3, 4, 5, 6, 7],[0, 1, 1, 2, 2, 3, 4, 5, 6, 7]]).shape",
   "id": "e5723d9e484b2da9",
   "outputs": [
    {
     "data": {
      "text/plain": [
       "(2, 10)"
      ]
     },
     "execution_count": 185,
     "metadata": {},
     "output_type": "execute_result"
    }
   ],
   "execution_count": 185
  },
  {
   "metadata": {},
   "cell_type": "code",
   "outputs": [],
   "execution_count": null,
   "source": "",
   "id": "df803bbf303f273f"
  }
 ],
 "metadata": {
  "kernelspec": {
   "display_name": "Python 3",
   "language": "python",
   "name": "python3"
  },
  "language_info": {
   "codemirror_mode": {
    "name": "ipython",
    "version": 2
   },
   "file_extension": ".py",
   "mimetype": "text/x-python",
   "name": "python",
   "nbconvert_exporter": "python",
   "pygments_lexer": "ipython2",
   "version": "2.7.6"
  }
 },
 "nbformat": 4,
 "nbformat_minor": 5
}
